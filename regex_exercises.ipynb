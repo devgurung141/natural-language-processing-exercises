{
 "cells": [
  {
   "cell_type": "code",
   "execution_count": 119,
   "id": "df748349",
   "metadata": {},
   "outputs": [],
   "source": [
    "import re\n",
    "\n",
    "import pandas as pd\n"
   ]
  },
  {
   "cell_type": "markdown",
   "id": "a21af5a2",
   "metadata": {},
   "source": [
    "#### 1. Write a function named is_vowel. It should accept a string as input and use a regular expression to determine if the passed string is a vowel. While not explicity mentioned in the lesson, you can treat the result of re.search as a boolean value that indicates whether or not the regular expression matches the given string."
   ]
  },
  {
   "cell_type": "code",
   "execution_count": 120,
   "id": "e60e4e2d",
   "metadata": {},
   "outputs": [],
   "source": [
    "def is_vowel(x):\n",
    "    '''takes in a string, returns true if a string is a vowel or returns false if a string is not a vowel\n",
    "    '''\n",
    "    \n",
    "    regex_exp = r'^[aeiou]$'\n",
    "    \n",
    "    if re.search(regex_exp, x, re.IGNORECASE):\n",
    "        return True\n",
    "    else: \n",
    "        return False    "
   ]
  },
  {
   "cell_type": "code",
   "execution_count": 121,
   "id": "cf5fd82e",
   "metadata": {},
   "outputs": [
    {
     "data": {
      "text/plain": [
       "True"
      ]
     },
     "execution_count": 121,
     "metadata": {},
     "output_type": "execute_result"
    }
   ],
   "source": [
    "is_vowel('a')"
   ]
  },
  {
   "cell_type": "code",
   "execution_count": 122,
   "id": "bc1ec1e6",
   "metadata": {},
   "outputs": [
    {
     "data": {
      "text/plain": [
       "False"
      ]
     },
     "execution_count": 122,
     "metadata": {},
     "output_type": "execute_result"
    }
   ],
   "source": [
    "is_vowel('v')"
   ]
  },
  {
   "cell_type": "code",
   "execution_count": 123,
   "id": "0935d57a",
   "metadata": {},
   "outputs": [
    {
     "data": {
      "text/plain": [
       "False"
      ]
     },
     "execution_count": 123,
     "metadata": {},
     "output_type": "execute_result"
    }
   ],
   "source": [
    "is_vowel('ae')"
   ]
  },
  {
   "cell_type": "code",
   "execution_count": null,
   "id": "ac6945c2",
   "metadata": {},
   "outputs": [],
   "source": []
  },
  {
   "cell_type": "markdown",
   "id": "0e12ef61",
   "metadata": {},
   "source": [
    "#### 2. Write a function named is_valid_username that accepts a string as input. A valid username starts with a lowercase letter, and only consists of lowercase letters, numbers, or the _ character. It should also be no longer than 32 characters. The function should return either True or False depending on whether the passed string is a valid username.\n",
    "- is_valid_username('aaaaaaaaaaaaaaaaaaaaaaaaaaaaaaaaa')\n",
    "    - False\n",
    "- is_valid_username('codeup')\n",
    "    - True\n",
    "- is_valid_username('Codeup')\n",
    "    - False\n",
    "- is_valid_username('codeup123')\n",
    "    - True\n",
    "-  is_valid_username('1codeup')\n",
    "    - False\n"
   ]
  },
  {
   "cell_type": "code",
   "execution_count": 124,
   "id": "e3e4a8d7",
   "metadata": {},
   "outputs": [],
   "source": [
    "def is_valid_username(x):\n",
    "    '''takes in a string, return true if a string starts with a lowercase letter, only consists of lowercase letters, \n",
    "    numbers, or the _ character and is no longer than 32 characters else return false'''\n",
    "    \n",
    "    regex_exp = r'^[a-z][a-z\\d_]{1,31}$'\n",
    "    if re.search(regex_exp, x):\n",
    "        return True\n",
    "    else: \n",
    "        return False\n",
    "    "
   ]
  },
  {
   "cell_type": "code",
   "execution_count": 125,
   "id": "ef9fa3b6",
   "metadata": {},
   "outputs": [
    {
     "data": {
      "text/plain": [
       "False"
      ]
     },
     "execution_count": 125,
     "metadata": {},
     "output_type": "execute_result"
    }
   ],
   "source": [
    "is_valid_username('aaaaaaaaaaaaaaaaaaaaaaaaaaaaaaaaa')"
   ]
  },
  {
   "cell_type": "code",
   "execution_count": 126,
   "id": "e77a26f1",
   "metadata": {},
   "outputs": [
    {
     "data": {
      "text/plain": [
       "True"
      ]
     },
     "execution_count": 126,
     "metadata": {},
     "output_type": "execute_result"
    }
   ],
   "source": [
    "is_valid_username('codeup')"
   ]
  },
  {
   "cell_type": "code",
   "execution_count": 127,
   "id": "441803e9",
   "metadata": {},
   "outputs": [
    {
     "data": {
      "text/plain": [
       "False"
      ]
     },
     "execution_count": 127,
     "metadata": {},
     "output_type": "execute_result"
    }
   ],
   "source": [
    "is_valid_username('Codeup')"
   ]
  },
  {
   "cell_type": "code",
   "execution_count": 128,
   "id": "5df0ba63",
   "metadata": {},
   "outputs": [
    {
     "data": {
      "text/plain": [
       "True"
      ]
     },
     "execution_count": 128,
     "metadata": {},
     "output_type": "execute_result"
    }
   ],
   "source": [
    "is_valid_username('codeup123')"
   ]
  },
  {
   "cell_type": "code",
   "execution_count": 129,
   "id": "62a33843",
   "metadata": {},
   "outputs": [
    {
     "data": {
      "text/plain": [
       "False"
      ]
     },
     "execution_count": 129,
     "metadata": {},
     "output_type": "execute_result"
    }
   ],
   "source": [
    "is_valid_username('1codeup')"
   ]
  },
  {
   "cell_type": "code",
   "execution_count": 130,
   "id": "9f097674",
   "metadata": {},
   "outputs": [],
   "source": [
    "# other solution\n",
    "regex_exp = r'^[a-z]\\w{,31}$'"
   ]
  },
  {
   "cell_type": "markdown",
   "id": "54d4fba2",
   "metadata": {},
   "source": [
    "#### 3. Write a regular expression to capture phone numbers. It should match all of the following:\n",
    "\n",
    "- (210) 867 5309\n",
    "- +1 210.867.5309\n",
    "- 867-5309\n",
    "- 210-867-5309\n"
   ]
  },
  {
   "cell_type": "code",
   "execution_count": 131,
   "id": "34550756",
   "metadata": {},
   "outputs": [
    {
     "data": {
      "text/plain": [
       "<re.Match object; span=(0, 14), match='(210) 867 5309'>"
      ]
     },
     "execution_count": 131,
     "metadata": {},
     "output_type": "execute_result"
    }
   ],
   "source": [
    "regex_exp = r'^[(][\\d]{3}[)][\\s][\\d]{3}[\\s][\\d]{4}$'\n",
    "re.search(regex_exp, '(210) 867 5309')"
   ]
  },
  {
   "cell_type": "code",
   "execution_count": 132,
   "id": "d895c34d",
   "metadata": {},
   "outputs": [
    {
     "data": {
      "text/plain": [
       "<re.Match object; span=(0, 15), match='+1 210.867.5309'>"
      ]
     },
     "execution_count": 132,
     "metadata": {},
     "output_type": "execute_result"
    }
   ],
   "source": [
    "regex_exp = r'^[\\+][\\d][\\s][\\d]{3}[\\.][\\d]{3}[\\.][\\d]{4}$'\n",
    "re.search(regex_exp, '+1 210.867.5309')"
   ]
  },
  {
   "cell_type": "code",
   "execution_count": 133,
   "id": "32bb410d",
   "metadata": {},
   "outputs": [
    {
     "data": {
      "text/plain": [
       "<re.Match object; span=(0, 8), match='867-5309'>"
      ]
     },
     "execution_count": 133,
     "metadata": {},
     "output_type": "execute_result"
    }
   ],
   "source": [
    "regex_exp = r'^([\\d]{3}[-])?[\\d]{3}[-][\\d]{4}$'\n",
    "re.search(regex_exp, '867-5309')"
   ]
  },
  {
   "cell_type": "code",
   "execution_count": 134,
   "id": "6c025b0a",
   "metadata": {},
   "outputs": [
    {
     "data": {
      "text/plain": [
       "<re.Match object; span=(0, 12), match='210-867-5309'>"
      ]
     },
     "execution_count": 134,
     "metadata": {},
     "output_type": "execute_result"
    }
   ],
   "source": [
    "regex_exp = r'^[\\d]{3}[-][\\d]{3}[-][\\d]{4}$'\n",
    "re.search(regex_exp, '210-867-5309')"
   ]
  },
  {
   "cell_type": "code",
   "execution_count": 135,
   "id": "d6215992",
   "metadata": {},
   "outputs": [],
   "source": [
    "regex_exp = r'^([\\+][\\d][\\s])?([(]?[\\d]{3}[)]?[\\s\\.-])?[\\d]{3}[\\s\\.-][\\d]{4}$'"
   ]
  },
  {
   "cell_type": "code",
   "execution_count": 136,
   "id": "f9b6d9bb",
   "metadata": {},
   "outputs": [
    {
     "data": {
      "text/plain": [
       "<re.Match object; span=(0, 14), match='(210) 867 5309'>"
      ]
     },
     "execution_count": 136,
     "metadata": {},
     "output_type": "execute_result"
    }
   ],
   "source": [
    "# check reges__exp\n",
    "re.search(regex_exp, '(210) 867 5309')"
   ]
  },
  {
   "cell_type": "code",
   "execution_count": 137,
   "id": "9415a56d",
   "metadata": {},
   "outputs": [
    {
     "data": {
      "text/plain": [
       "<re.Match object; span=(0, 15), match='+1 210.867.5309'>"
      ]
     },
     "execution_count": 137,
     "metadata": {},
     "output_type": "execute_result"
    }
   ],
   "source": [
    "# check reges__exp\n",
    "re.search(regex_exp, '+1 210.867.5309')"
   ]
  },
  {
   "cell_type": "code",
   "execution_count": 138,
   "id": "3f43671f",
   "metadata": {},
   "outputs": [
    {
     "data": {
      "text/plain": [
       "<re.Match object; span=(0, 8), match='867-5309'>"
      ]
     },
     "execution_count": 138,
     "metadata": {},
     "output_type": "execute_result"
    }
   ],
   "source": [
    "# check reges__exp\n",
    "re.search(regex_exp, '867-5309')"
   ]
  },
  {
   "cell_type": "code",
   "execution_count": 139,
   "id": "e17427f3",
   "metadata": {},
   "outputs": [
    {
     "data": {
      "text/plain": [
       "<re.Match object; span=(0, 12), match='210-867-5309'>"
      ]
     },
     "execution_count": 139,
     "metadata": {},
     "output_type": "execute_result"
    }
   ],
   "source": [
    "# check reges__exp\n",
    "re.search(regex_exp,'210-867-5309')"
   ]
  },
  {
   "cell_type": "code",
   "execution_count": 140,
   "id": "edfa0282",
   "metadata": {},
   "outputs": [],
   "source": [
    "# other solution\n",
    "regex_exp = r'.*\\d{,3}.*\\d{3}.*\\d{4}'\n",
    "regex_exp = '(\\+?\\d+)?.?(\\(?\\d{3}\\)?)?.?\\d{3}.?\\d{4}'"
   ]
  },
  {
   "cell_type": "markdown",
   "id": "1e7ebf32",
   "metadata": {},
   "source": [
    "#### 4. Use regular expressions to convert the dates below to the standardized year-month-day format.\n",
    "\n",
    "- 02/04/19\n",
    "- 02/05/19\n",
    "- 02/06/19\n",
    "- 02/07/19\n",
    "- 02/08/19\n",
    "- 02/09/19\n",
    "- 02/10/19\n"
   ]
  },
  {
   "cell_type": "code",
   "execution_count": 141,
   "id": "093ac1e5",
   "metadata": {},
   "outputs": [
    {
     "name": "stdout",
     "output_type": "stream",
     "text": [
      "19-02-04\n"
     ]
    }
   ],
   "source": [
    "regex_exp = r'(?P<month>\\d+)/(?P<day>\\d+)/(?P<year>\\d+)'\n",
    "\n",
    "month, day, year = re.search(regex_exp,'02/04/19').groups()\n",
    "print(f'{year}-{month}-{day}')"
   ]
  },
  {
   "cell_type": "code",
   "execution_count": 142,
   "id": "bf644017",
   "metadata": {},
   "outputs": [
    {
     "name": "stdout",
     "output_type": "stream",
     "text": [
      "19-02-07\n"
     ]
    }
   ],
   "source": [
    "month, day, year = re.search(regex_exp,'02/07/19').groups()\n",
    "print(f'{year}-{month}-{day}')"
   ]
  },
  {
   "cell_type": "code",
   "execution_count": 143,
   "id": "23c5b70a",
   "metadata": {},
   "outputs": [
    {
     "data": {
      "text/plain": [
       "'19/02/09'"
      ]
     },
     "execution_count": 143,
     "metadata": {},
     "output_type": "execute_result"
    }
   ],
   "source": [
    "# other solutions\n",
    "date = '02/09/19'\n",
    "regex_exp = r'(\\d+)/(\\d+)/(\\d+)'\n",
    "re.sub(regex_exp, r'\\3/\\1/\\2', date)"
   ]
  },
  {
   "cell_type": "markdown",
   "id": "3b569ada",
   "metadata": {},
   "source": [
    "#### 5. Write a regex to extract the various parts of these logfile lines:\n",
    "\n",
    "\n",
    "GET /api/v1/sales?page=86 [16/Apr/2019:193452+0000] HTTP/1.1 {200} 510348 \"python-requests/2.21.0\" 97.105.19.58\n",
    "POST /users_accounts/file-upload [16/Apr/2019:193452+0000] HTTP/1.1 {201} 42 \"User-Agent: Mozilla/5.0 (X11; Fedora; Fedora; Linux x86_64) AppleWebKit/537.36 (KHTML, like Gecko) Chrome/73.0.3683.86 Safari/537.36\" 97.105.19.58\n",
    "GET /api/v1/items?page=3 [16/Apr/2019:193453+0000] HTTP/1.1 {429} 3561 \"python-requests/2.21.0\" 97.105.19.58\n"
   ]
  },
  {
   "cell_type": "code",
   "execution_count": 144,
   "id": "30ad070c",
   "metadata": {},
   "outputs": [
    {
     "data": {
      "text/html": [
       "<div>\n",
       "<style scoped>\n",
       "    .dataframe tbody tr th:only-of-type {\n",
       "        vertical-align: middle;\n",
       "    }\n",
       "\n",
       "    .dataframe tbody tr th {\n",
       "        vertical-align: top;\n",
       "    }\n",
       "\n",
       "    .dataframe thead th {\n",
       "        text-align: right;\n",
       "    }\n",
       "</style>\n",
       "<table border=\"1\" class=\"dataframe\">\n",
       "  <thead>\n",
       "    <tr style=\"text-align: right;\">\n",
       "      <th></th>\n",
       "      <th>method</th>\n",
       "      <th>path</th>\n",
       "      <th>timestamp</th>\n",
       "      <th>http_version</th>\n",
       "      <th>status</th>\n",
       "      <th>bytes</th>\n",
       "      <th>user_agent</th>\n",
       "      <th>ip</th>\n",
       "    </tr>\n",
       "  </thead>\n",
       "  <tbody>\n",
       "    <tr>\n",
       "      <th>0</th>\n",
       "      <td>GET</td>\n",
       "      <td>/api/v1/sales?page=86</td>\n",
       "      <td>16/Apr/2019:193452+0000</td>\n",
       "      <td>HTTP/1.1</td>\n",
       "      <td>200</td>\n",
       "      <td>510348</td>\n",
       "      <td>python-requests/2.21.0</td>\n",
       "      <td>97.105.19.58</td>\n",
       "    </tr>\n",
       "    <tr>\n",
       "      <th>1</th>\n",
       "      <td>POST</td>\n",
       "      <td>/users_accounts/file-upload</td>\n",
       "      <td>16/Apr/2019:193452+0000</td>\n",
       "      <td>HTTP/1.1</td>\n",
       "      <td>201</td>\n",
       "      <td>42</td>\n",
       "      <td>User-Agent: Mozilla/5.0 (X11; Fedora; Fedora; ...</td>\n",
       "      <td>97.105.19.58</td>\n",
       "    </tr>\n",
       "    <tr>\n",
       "      <th>2</th>\n",
       "      <td>GET</td>\n",
       "      <td>/api/v1/items?page=3</td>\n",
       "      <td>16/Apr/2019:193453+0000</td>\n",
       "      <td>HTTP/1.1</td>\n",
       "      <td>429</td>\n",
       "      <td>3561</td>\n",
       "      <td>python-requests/2.21.0</td>\n",
       "      <td>97.105.19.58</td>\n",
       "    </tr>\n",
       "  </tbody>\n",
       "</table>\n",
       "</div>"
      ],
      "text/plain": [
       "  method                         path                timestamp http_version  \\\n",
       "0    GET        /api/v1/sales?page=86  16/Apr/2019:193452+0000     HTTP/1.1   \n",
       "1   POST  /users_accounts/file-upload  16/Apr/2019:193452+0000     HTTP/1.1   \n",
       "2    GET         /api/v1/items?page=3  16/Apr/2019:193453+0000     HTTP/1.1   \n",
       "\n",
       "  status   bytes                                         user_agent  \\\n",
       "0    200  510348                             python-requests/2.21.0   \n",
       "1    201      42  User-Agent: Mozilla/5.0 (X11; Fedora; Fedora; ...   \n",
       "2    429    3561                             python-requests/2.21.0   \n",
       "\n",
       "             ip  \n",
       "0  97.105.19.58  \n",
       "1  97.105.19.58  \n",
       "2  97.105.19.58  "
      ]
     },
     "execution_count": 144,
     "metadata": {},
     "output_type": "execute_result"
    }
   ],
   "source": [
    "logfile_re = r'''\n",
    "^(?P<method>GET|POST)\n",
    "\\s+\n",
    "(?P<path>.*?)\n",
    "\\s+\n",
    "\\[(?P<timestamp>.*?)\\]\n",
    "\\s+\n",
    "(?P<http_version>.*?)\n",
    "\\s+\n",
    "\\{(?P<status>\\d+)\\}\n",
    "\\s+\n",
    "(?P<bytes>\\d+)\n",
    "\\s+\n",
    "\"(?P<user_agent>.*)\"\n",
    "\\s+\n",
    "(?P<ip>.*)$\n",
    "'''\n",
    "\n",
    "lines = pd.Series([\n",
    "    'GET /api/v1/sales?page=86 [16/Apr/2019:193452+0000] HTTP/1.1 {200} 510348 \"python-requests/2.21.0\" 97.105.19.58',\n",
    "    'POST /users_accounts/file-upload [16/Apr/2019:193452+0000] HTTP/1.1 {201} 42 \"User-Agent: Mozilla/5.0 (X11; Fedora; Fedora; Linux x86_64) AppleWebKit/537.36 (KHTML, like Gecko) Chrome/73.0.3683.86 Safari/537.36\" 97.105.19.58',\n",
    "    'GET /api/v1/items?page=3 [16/Apr/2019:193453+0000] HTTP/1.1 {429} 3561 \"python-requests/2.21.0\" 97.105.19.58',\n",
    "])\n",
    "\n",
    "lines.str.extract(logfile_re, re.VERBOSE)"
   ]
  }
 ],
 "metadata": {
  "kernelspec": {
   "display_name": "Python 3 (ipykernel)",
   "language": "python",
   "name": "python3"
  },
  "language_info": {
   "codemirror_mode": {
    "name": "ipython",
    "version": 3
   },
   "file_extension": ".py",
   "mimetype": "text/x-python",
   "name": "python",
   "nbconvert_exporter": "python",
   "pygments_lexer": "ipython3",
   "version": "3.9.13"
  }
 },
 "nbformat": 4,
 "nbformat_minor": 5
}
