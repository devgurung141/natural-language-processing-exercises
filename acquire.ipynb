{
 "cells": [
  {
   "cell_type": "code",
   "execution_count": 1,
   "id": "f67d3cfe",
   "metadata": {},
   "outputs": [],
   "source": [
    "import requests\n",
    "from bs4 import BeautifulSoup\n",
    "import os\n",
    "\n",
    "import numpy as np\n",
    "import json\n"
   ]
  },
  {
   "cell_type": "markdown",
   "id": "ccf4b607",
   "metadata": {},
   "source": [
    "##### 1. Visit Codeup's Blog and record the urls for at least 5 distinct blog posts. For each post, you should scrape at least the post's title and content.\n",
    "- Encapsulate your work in a function named get_blog_articles that will return a list of dictionaries, with each dictionary representing one article. The shape of each dictionary should look like this:\n",
    "\n",
    "{\n",
    "    \n",
    "   'title': 'the title of the article',\n",
    "    \n",
    "   'content': 'the full text content of the article'\n",
    "   \n",
    "}\n"
   ]
  },
  {
   "cell_type": "code",
   "execution_count": 2,
   "id": "0ce63943",
   "metadata": {},
   "outputs": [
    {
     "data": {
      "text/plain": [
       "<Response [200]>"
      ]
     },
     "execution_count": 2,
     "metadata": {},
     "output_type": "execute_result"
    }
   ],
   "source": [
    "url = 'https://codeup.com/blog/'\n",
    "headers = {'User-Agent': 'Codeup Data Science'}\n",
    "response = requests.get(url, headers=headers)\n",
    "response"
   ]
  },
  {
   "cell_type": "code",
   "execution_count": 3,
   "id": "de3a540f",
   "metadata": {
    "scrolled": true
   },
   "outputs": [],
   "source": [
    "# response.text"
   ]
  },
  {
   "cell_type": "code",
   "execution_count": 4,
   "id": "3eff23ef",
   "metadata": {},
   "outputs": [],
   "source": [
    "soup = BeautifulSoup(response.content, 'html.parser')\n",
    "# soup"
   ]
  },
  {
   "cell_type": "code",
   "execution_count": 5,
   "id": "38c5b842",
   "metadata": {
    "scrolled": false
   },
   "outputs": [
    {
     "data": {
      "text/plain": [
       "[<a class=\"more-link\" href=\"https://codeup.com/codeup-news/panelist-spotlight-4/\">read more</a>,\n",
       " <a class=\"more-link\" href=\"https://codeup.com/events/black-excellence-in-tech-panelist-spotlight-stephanie-jones/\">read more</a>,\n",
       " <a class=\"more-link\" href=\"https://codeup.com/events/black-excellence-in-tech-panelist-spotlight-james-cooper/\">read more</a>,\n",
       " <a class=\"more-link\" href=\"https://codeup.com/events/black-excellence-in-tech-panelist-spotlight/\">read more</a>,\n",
       " <a class=\"more-link\" href=\"https://codeup.com/tips-for-prospective-students/coding-bootcamp-or-self-learning/\">read more</a>,\n",
       " <a class=\"more-link\" href=\"https://codeup.com/codeup-news/codeup-best-bootcamps/\">read more</a>]"
      ]
     },
     "execution_count": 5,
     "metadata": {},
     "output_type": "execute_result"
    }
   ],
   "source": [
    "article_links = soup.find_all('a', class_='more-link')\n",
    "article_links"
   ]
  },
  {
   "cell_type": "code",
   "execution_count": 6,
   "id": "85849ac5",
   "metadata": {
    "scrolled": false
   },
   "outputs": [],
   "source": [
    "lists = [] \n",
    "for element in article_links:\n",
    "\n",
    "    url = element['href']\n",
    "    headers = {'User-Agent': 'Codeup Data Science'}\n",
    "    response = requests.get(url, headers=headers)\n",
    "#     print(response)\n",
    "    soup = BeautifulSoup(response.content, 'html.parser')\n",
    "#     print(soup.h1.text)\n",
    "    dicts = {'title': soup.h1.text, \n",
    "             'content':soup.find('div', class_ = 'entry-content').text}\n",
    "    lists.append(dicts)"
   ]
  },
  {
   "cell_type": "code",
   "execution_count": 7,
   "id": "b7516378",
   "metadata": {
    "scrolled": false
   },
   "outputs": [],
   "source": [
    "# lists"
   ]
  },
  {
   "cell_type": "code",
   "execution_count": 8,
   "id": "67c1014b",
   "metadata": {},
   "outputs": [],
   "source": [
    "def get_blog_articles(url):\n",
    "    \n",
    "    '''takes in url, returns a list with a dictionary containing title and content of each article'''\n",
    "    file = 'blog_articles.json'\n",
    "    if os.path.exists(file):\n",
    "        with open(file) as f:\n",
    "            return json.load(f)\n",
    "        \n",
    "    headers = {'User-Agent': 'Codeup Data Science'}\n",
    "    response = requests.get(url, headers=headers)\n",
    "    soup = BeautifulSoup(response.content, 'html.parser')\n",
    "    article_links = soup.find_all('a', class_='more-link')\n",
    "    lists = [] \n",
    "    \n",
    "    for element in article_links:\n",
    "        url = element['href']\n",
    "        response = requests.get(url, headers=headers)\n",
    "        soup = BeautifulSoup(response.content, 'html.parser')\n",
    "        dicts = {'title': soup.h1.text, \n",
    "                 'content':soup.find('div', class_ = 'entry-content').text}\n",
    "        lists.append(dicts )\n",
    "    with open(file, 'w') as f:\n",
    "        json.dump(lists,f)\n",
    "        \n",
    "    return lists\n",
    "   "
   ]
  },
  {
   "cell_type": "code",
   "execution_count": 9,
   "id": "c542cc23",
   "metadata": {},
   "outputs": [
    {
     "data": {
      "text/plain": [
       "[{'title': 'Black Excellence in Tech: Panelist Spotlight – Wilmarie De La Cruz Mejia',\n",
       "  'content': '\\nBlack excellence in tech: Panelist Spotlight – Wilmarie De La Cruz Mejia\\n\\nCodeup is hosting a Black Excellence in Tech Panel in honor of Black History Month on February 22, 2023! To further celebrate, we’d like to spotlight each of our panelists leading up to the discussion to learn a bit about their respective experiences as black leaders in the tech industry!\\xa0\\xa0\\nMeet Wilmarie!\\nWilmarie De\\xa0La Cruz Mejia is a current Codeup student on the path to becoming a Full-Stack Web Developer at our Dallas, TX campus.\\xa0\\nWilmarie is a veteran expanding her knowledge of programming languages and technologies on her journey with Codeup.\\xa0\\nWe asked Wilmarie to share more about her experience at Codeup. She shares, “I was able to meet other people who were passionate about coding and be in a positive learning environment.”\\nWe hope you can join us on February 22nd to sit in on an insightful conversation with Wilmarie and all of our panelists!\\n'},\n",
       " {'title': 'Black excellence in tech: Panelist Spotlight – Stephanie Jones',\n",
       "  'content': '\\nBlack excellence in tech: Panelist Spotlight – Stephanie Jones\\nCodeup is hosting our second Black Excellence in Tech Panel in honor of Black History Month on February 22, 2023! To further celebrate, we’d like to spotlight each of our panelists leading up to the discussion to learn a bit about their respective experiences as black leaders in the tech industry!\\xa0\\xa0\\nMeet Stephanie!\\n\\nStephanie Jones is an Alumna of Codeup’s Data Science Program (March 2022) and currently works as a Business Intelligence Developer for Victory Capital, a global investment management firm based in San Antonio, TX.\\xa0\\nStephanie is passionate about visual storytelling and, as a late “tech bloomer,” is also an advocate for equitable access and educational opportunities in technology for underserved communities.\\nWe asked Stephanie to share more about her experience at Codeup. She shares, “I have always been a creative and Codeup opened up a world of possibilities by exposing me to advanced technical concepts and career opportunities.” Stephanie also speaks to the community of support in the program and beyond.\\xa0 “The network and support from instructors, mentors, and peers began during the application phase (which was intense), before the program even started, and has carried over even after completing the program and entering into the workforce.”\\nWe hope you can join us on February 22nd to sit in on an insightful conversation with Stephanie and all of our panelists!\\n'},\n",
       " {'title': 'Black excellence in tech: Panelist Spotlight – James Cooper',\n",
       "  'content': '\\nBlack excellence in tech: Panelist Spotlight – James Cooper\\nCodeup is hosting our second Black Excellence in Tech Panel in honor of Black History Month on February 22, 2023! To further celebrate, we’d like to spotlight each of our panelists leading up to the discussion to learn a bit about their respective experiences as black leaders in the tech industry! \\nMeet James!\\n\\nJames Cooper is the Senior Placement Manager at Codeup, and will also be the Moderator for the Black Excellence in Tech Panel. James previously served as an Athletic Director in higher education and in that role his responsibilities included liaison for Title IX. As Title IX liaison, James oversaw complaints of discrimination and identifying and addressing any patterns or systemic problems that arose during the review of complaints. Additionally, he spent two years assisting the Department of Justice in building college campuses’ capacity to lessen violence against women, to administer justice for victims of domestic violence, dating violence, sexual assault, and stalking, and to increase services for those victims.\\nAt Codeup, James helps students identify career opportunities and supply them with the necessary tools to ensure they are able to compete for those opportunities. We asked James about his experience at Codeup, he shared, “This is the first employer in my professional experiences that promotes true autonomy and community amongst its staff.”\\nJames believes in his ability to overcome many obstacles and challenges and utilizes his lens and social construct towards the Human-Centered Approach to Service Delivery. He serves as an infinite example of thought provoking philosopher bridging gaps between academics, athletics and prioritizing the process of transitioning community assets and values for a sustainable legacy.\\nWe hope you can join us on February 22nd to sit in on an insightful conversation with James and all of our panelists!\\n'},\n",
       " {'title': 'Black excellence in tech: Panelist Spotlight – Jeanice Freeman',\n",
       "  'content': '\\nBlack excellence in tech: Panelist Spotlight – Jeanice freeman\\nCodeup is hosting our second Black Excellence in Tech Panel in honor of Black History Month on February 22, 2023! To further celebrate, we’d like to spotlight each of our panelists leading up to the discussion to learn a bit about their respective experiences as black leaders in the tech industry!\\nMeet Jeanice!\\nJeanice Freeman is the Student Experience Specialist at Codeup, where her role is to provide support, advocacy, inclusivity, growth, and resources for students. Prior to Codeup, she worked in higher education, k-12 education, community development, and human services providing support, resources, training, development, and growth opportunities. She holds a B.S and M.S degree and is currently working on her Ed. D in Executive Leadership. She plans to continue doing what she loves as an educator and provide space and opportunities for adult learners to continue to grow.\\nWe asked Jeanice about her experience with Codeup. She shared, “Codeup has allowed me to do what I love and create spaces for others to thrive and grow. I am able to work with diverse populations and provide support and development opportunities for non-traditional students. Codeup has also provided opportunities for my own growth and with that has become a special organization to be a part of.”\\nDon’t forget to tune in on February 22nd to sit in on an insightful conversation.\\n'},\n",
       " {'title': 'Coding Bootcamp or Self-Learning? Which is Best for You?',\n",
       "  'content': '\\nIf you’re interested in embarking on a career in tech, it is likely that you have taken a look into two learning paths: self-learning vs. coding bootcamps. But what are the differences?\\nSelf-Learning\\nMany online institutions offer self-learning courses. This is becoming increasingly popular as students are becoming more aware of their individual learning styles, and value flexibility and self-paced programs.\\nAdvantages of Self-Learning\\n\\nYou can form your instruction at times that best suit your needs and lifestyle\\nYou can purse your new path from the comfort of your home if you choose!\\nThere are many self-learning courses that offer flexible payment options\\n\\nDisadvantages of Self-Learning\\n\\nWorking alone can sometimes lead to a lack of motivation, requiring a great deal of strictness to remain on track\\nThere are no peers or instructors physically present to study with or ask questions\\n\\nTraditional Coding Bootcamp\\nCoding bootcamps have a reputation for being the accelerated path to launching a career in tech. This tends to work best for students that thrive off of structured learning, with a support team to assist throughout the process.\\nAdvantages of Coding Bootcamps\\n\\nBootcamps are typically instructor-led meaning you have access to industry experts throughout your program to help you fully understand the material\\nYou and your peers will more than likely need to complete a project together before the end of your course. This will aid in forming connections with the next group of individuals to enter the tech industry (which is great for networking!)\\nTo employers, completing a program through a coding bootcamp looks phenomenal! This demonstrates your ability to commit to something complex and learn quickly.\\n\\nDisadvantages of Coding Bootcamps\\n\\nEvery piece of information covered in a coding bootcamp’s curriculum may not be imperative to your new role. A top goal of a bootcamp is to lay a good foundation for many possible careers. This means that if the curriculum covers pieces you may already know, or that do not exactly pertain to you, you will still need to be actively involved in the lessons.\\nIf you are someone who prefers to spend a lot of time absorbing information, you may not be given the opportunity to do so, given that a bootcamp has a structured curriculum with time frames for each topic.\\n\\nBoth options have their advantages and disadvantages, but selecting which path is the correct choice for you should be based on your learning style and life circumstances.\\nCodeup\\nCodeup is the first, and currently the only accredited* coding bootcamp in Texas. Our program offerings range from 15 to 20 weeks and include: Full-Stack Web Development, Data Science and Cloud Administration. These programs are open to individuals of all backgrounds and experience levels.\\nWhen you decide to transition careers with Codeup, our commitment to you goes beyond class-time. You will have direct access to a support system including:\\n\\nAdmissions and financial aid managers\\nA student experience team\\nInstructors who are subject matter experts\\nA placement team looking to help you secure a job in-field once you graduate\\n\\nWe also offer a tuition refund guarantee! We will refund your paid tuition back to you if you do not find a job in-field within six months of completing a Codeup program.\\nIf this sounds like a good fit for you, use any of the following options to launch your career in tech!\\n\\nAttend a 100% free instructor-led workshop to try your hand at coding!\\nRequest more information on one or all of our programs\\nGet started now by filling out a quick form\\nSchedule time with an admissions manager to talk through the process\\n\\n*Codeup is accredited for postsecondary, non-degree granting, career and technology programs by the Middle States Commission on Secondary Schools of the Middle States Association of Colleges and Schools, 3624 Market Street, Philadelphia, PA 19104, (267) 284-5000\\n'},\n",
       " {'title': 'Codeup Among Top 58 Best Coding Bootcamps of 2023',\n",
       "  'content': '\\nCodeup is pleased to announce we have been ranked among the 58 best coding bootcamps of 2023 by Course Report!\\nCourse Report is a platform that has become essential in researching coding bootcamps over the last 10 years. Every year, Course Report shares a list of coding bootcamps worldwide that meet a high standard in their educational offerings. The following were factors in the decision-making process:\\n\\nAlumni and Student Reviews\\nTransparency Around Career Outcomes\\nSalary-Based Financing Options\\nSchool’s Operation Time\\nNumber of Campuses\\nSelectivity in the Application Process\\nVetted Lending Partnerships\\nThe Caliber of Career Support\\nCommitment to Diversity\\n\\nCodeup was highlighted for being an established school with transparent outcomes.\\nCourse Report is primarily utilized by previous and potential students seeking information on coding bootcamps. Our outstanding alumni have shared their genuine experiences upon completing Codeup programs; anyone seeking information on Codeup can access their reviews!\\nA huge thank you goes to our alumni for sharing your journeys, the Codeup staff for continuing to deliver excellence, and Course Report for recognizing our school in this year’s rankings.\\n\\n'}]"
      ]
     },
     "execution_count": 9,
     "metadata": {},
     "output_type": "execute_result"
    }
   ],
   "source": [
    "url = 'https://codeup.com/blog/'\n",
    "get_blog_articles(url)"
   ]
  },
  {
   "cell_type": "markdown",
   "id": "0c6664d7",
   "metadata": {},
   "source": [
    "#### 2. We will now be scraping text data from inshorts, a website that provides a brief overview of many different topics.\n",
    "Write a function that scrapes the news articles for the following topics:\n",
    "\n",
    "- Business\n",
    "- Sports\n",
    "- Technology\n",
    "- Entertainment\n",
    "\n",
    "The end product of this should be a function named get_news_articles that returns a list of dictionaries, where each dictionary has this shape:\n",
    "\n",
    "{\n",
    "\n",
    "'title': 'The article title',\n",
    "\n",
    "'content': 'The article content',\n",
    "    \n",
    "'category': 'business' # for example\n",
    "\n",
    "}\n"
   ]
  },
  {
   "cell_type": "code",
   "execution_count": 10,
   "id": "435c8cb2",
   "metadata": {},
   "outputs": [
    {
     "data": {
      "text/plain": [
       "<Response [200]>"
      ]
     },
     "execution_count": 10,
     "metadata": {},
     "output_type": "execute_result"
    }
   ],
   "source": [
    "url = 'https://inshorts.com/en/read'\n",
    "response = requests.get(url)\n",
    "response"
   ]
  },
  {
   "cell_type": "code",
   "execution_count": 11,
   "id": "5994bba9",
   "metadata": {},
   "outputs": [],
   "source": [
    "soup = BeautifulSoup(response.content, 'html.parser')"
   ]
  },
  {
   "cell_type": "code",
   "execution_count": 12,
   "id": "710818f7",
   "metadata": {},
   "outputs": [
    {
     "data": {
      "text/plain": [
       "[<span itemprop=\"headline\">Price of 14.2 kg-domestic LPG cylinder hiked by ₹50/unit in Delhi</span>,\n",
       " <span itemprop=\"headline\">Delhi ministers Kailash Gahlot, RK Anand get Sisodia, Jain's depts</span>,\n",
       " <span itemprop=\"headline\">The sacrifices Anushka made as a mother are massive: Virat Kohli</span>,\n",
       " <span itemprop=\"headline\">Pic of 'wave with a face' captured by UK photographer goes viral</span>,\n",
       " <span itemprop=\"headline\">Pilot does 360-degree turn to show passengers Northern Lights over UK, pics surface</span>,\n",
       " <span itemprop=\"headline\">Anant Ambani celebrates staffer's birthday on his jet, latter touches his feet</span>,\n",
       " <span itemprop=\"headline\">India announce playing XI for 3rd Test against Australia, KL Rahul dropped</span>,\n",
       " <span itemprop=\"headline\">Everyone knows it, jokes Rohit on being introduced as India captain in press conference</span>,\n",
       " <span itemprop=\"headline\">I went 'What the hell am I doing?': Steve Smith on his dismissal in Delhi</span>,\n",
       " <span itemprop=\"headline\">Ambanis should get Z+ security cover across India, abroad; cost to be borne by them: SC</span>,\n",
       " <span itemprop=\"headline\">32-yr-old Indian national shot dead by Australian police after he stabs man at station</span>,\n",
       " <span itemprop=\"headline\">Ex-PM Devegowda hospitalised for check-up, says 'no need to panic'</span>,\n",
       " <span itemprop=\"headline\">'RRR' song 'Naatu Naatu' to be performed live at Oscars 2023</span>,\n",
       " <span itemprop=\"headline\">This is my age to make mistakes: Sara on her B'wood journey</span>,\n",
       " <span itemprop=\"headline\">Why's it embarrassing: Yuvraj on Piers Morgan's remark on Ten Hag</span>,\n",
       " <span itemprop=\"headline\">Relatives of criminal attack policemen with stones in MP, 3 hurt</span>,\n",
       " <span itemprop=\"headline\">Fake educational certificate racket busted in Hyd, 7 arrested</span>,\n",
       " <span itemprop=\"headline\">Mass copying caught in HSC exam at Pune school; 9 teachers booked</span>,\n",
       " <span itemprop=\"headline\">350-yr-old Shivling at Babulnath Temple shows signs of weathering</span>,\n",
       " <span itemprop=\"headline\">Avg max temp in Delhi for Feb in 2023 3rd highest in 63 years</span>,\n",
       " <span itemprop=\"headline\">Protests held against ropeway project at Vaishno Devi shrine</span>,\n",
       " <span itemprop=\"headline\">Slab falls from under-construction society's 25th floor in Pune</span>,\n",
       " <span itemprop=\"headline\">26 killed, 85 others injured as 2 trains collide in Greece</span>,\n",
       " <span itemprop=\"headline\">Eventbrite to cut 8% of jobs, relocate 30% staff to India, Spain</span>,\n",
       " <span itemprop=\"headline\">7% GDP growth still possible in FY23 despite slowdown in Q3: CEA</span>]"
      ]
     },
     "execution_count": 12,
     "metadata": {},
     "output_type": "execute_result"
    }
   ],
   "source": [
    "soup.find_all('span', itemprop=\"headline\")"
   ]
  },
  {
   "cell_type": "code",
   "execution_count": 13,
   "id": "d8a506bc",
   "metadata": {},
   "outputs": [
    {
     "data": {
      "text/plain": [
       "[<div itemprop=\"articleBody\">The price of a domestic 14.2 kg-LPG cylinder has been increased by ₹50/unit and it will now cost ₹1,103/unit in Delhi. The price of a commercial 19 kg-LPG cylinder has also been hiked by ₹350.50/unit, raising the cost to ₹2,119.50/unit in the national capital. This is the second time the price of commercial LPG cylinders has been hiked this year.</div>,\n",
       " <div itemprop=\"articleBody\">Delhi Cabinet Ministers Kailash Gahlot and Raaj Kumar Anand have been allotted departments that were earlier handled by former Deputy CM Manish Sisodia and former Health Minister Satyendar Jain. Gahlot's assigned departments include Finance, Power and Home while Anand's departments include Education, Tourism and Industries. This comes after Sisodia resigned on Tuesday following his arrest by CBI.</div>,\n",
       " <div itemprop=\"articleBody\">Virat Kohli, while talking about his wife Anushka Sharma on a podcast, said the latter has been \"a big inspiration\" for him. \"As a mother, the sacrifices that she (Anushka) made have been massive,\" said Virat during his recent RCB podcast. He added, \"Looking at her, I realised whatever problems I had were nothing.\"</div>,\n",
       " <div itemprop=\"articleBody\">A picture showing the shape of a face in a breaking wave at a lighthouse, captured by UK photographer Ian Sproat, has gone viral. \"Could it be the goddess of water Amphitrite, or our beloved late Queen Elizabeth?\" the 41-year-old wrote while sharing the picture on Instagram. Sproat said that he \"finds peace in photography\".</div>,\n",
       " <div itemprop=\"articleBody\">An easyJet pilot made a 360-degree turn on Monday night in a bid to ensure that passengers could see the Northern Lights. The aircraft was flying from Reykjavik, Iceland to Manchester Airport in the UK. \"Big thanks to the @easyJet pilot...who did a 360 flyby mid flight to make sure all passengers could see the...Northern Lights,\" a passenger tweeted.</div>,\n",
       " <div itemprop=\"articleBody\">A video has shown billionaire Mukesh Ambani's son Anant Ambani celebrating an employee's birthday on his private jet. The video shows the celebration wherein the male staffer is seen touching Anant's feet while the latter is seen feeding him some cake. Other staffers are also seen joining in the celebrations.</div>,\n",
       " <div itemprop=\"articleBody\">Team India captain Rohit Sharma won the toss and elected to bat first in the third Test against Australia in Indore. Opener KL Rahul has been dropped from Team India's playing XI, with Shubman Gill replacing him. Team India's playing XI also includes fast bowler Umesh Yadav, who has replaced Mohammad Shami.</div>,\n",
       " <div itemprop=\"articleBody\">While his customary introduction as Team India captain was being given at the beginning of the press conference ahead of the third India-Australia Test, Rohit Sharma jokingly said, \"Sabko pata hai yaar (Everyone knows it).\" Rohit further stated in the press conference that India's playing XI will only be announced during the toss in Indore tomorrow.</div>,\n",
       " <div itemprop=\"articleBody\">On being dismissed off sweep shot in second innings of Delhi Test against India, Australia stand-in captain Steve Smith said, \"I went, 'What the hell am I doing?'\" He added, \"I was...angry. There hasn't been too many times in my career where I've actually come off and just been bedazzled by what I've done. It wasn't my finest moment.\"</div>,\n",
       " <div itemprop=\"articleBody\">The Supreme Court on Tuesday stated that the Z+ security cover provided to billionaire businessman Mukesh Ambani and his family shouldn't be restricted to Mumbai. It directed Ministry of Home Affairs to ensure that Z+ security cover is made available to them across India and abroad. Entire cost of security shall be borne by the Ambanis, the court added.</div>,\n",
       " <div itemprop=\"articleBody\">A 32-year-old Indian national was shot dead by the Australian police on Tuesday after he allegedly stabbed a cleaner at Auburn train station in Sydney. Mohamed Rahmathullah Syed Ahmed, who hails from Tamil Nadu, also threatened police officers. Police is investigating whether mental health played a part in Ahmed stabbing the cleaner.</div>,\n",
       " <div itemprop=\"articleBody\">Former Prime Minister and Janata Dal (Secular) chief HD Devegowda has been admitted to a hospital in Bengaluru for a routine check-up. Sharing the information on Twitter, Devegowda said, \"I have come to the hospital for a routine check-up.\" \"There's no need for any panic or anxiety. I will be back home in a couple of days,\" he added.</div>,\n",
       " <div itemprop=\"articleBody\">Singers Rahul Sipligunj and Kaala Bhairava will be singing Oscar-nominated song 'Naatu Naatu' live at the 95th Academy Awards' ceremony. It will be Rahul and Bhairava's debut Oscar performance. The song from SS Rajamouli's film 'RRR' is nominated in the Best Original Song category of Oscars. 'Naatu Naatu' is composed by the Golden Globe-winning music composer MM Keeravaani. </div>,\n",
       " <div itemprop=\"articleBody\">Actress Sara Ali Khan, speaking about her journey in Bollywood, has said that she always tries to learn something. \"But I also feel that I have made some mistakes. I have done such films which have not been loved by the audience. But then again, this is my age to make mistakes,\" she stated. Sara made her debut with 'Kedarnath'.</div>,\n",
       " <div itemprop=\"articleBody\">Reacting to British broadcaster Piers Morgan terming Manchester United manager Erik ten Hag's dance after winning Carabao Cup as \"embarrassing\", ex-India cricketer Yuvraj Singh tweeted, \"Why's it embarrassing?\" \"Are we not supposed to enjoy...when we win?\" added Yuvraj. \"Can you imagine Sir Alex Ferguson...doing a crazed conga on live TV for winning a third tier trophy?\" read Morgan's response.</div>,\n",
       " <div itemprop=\"articleBody\">Three policemen were injured after family members of a history-sheeter pelted stones at a police team that had gone to arrest him in Madhya Pradesh's Chhatarpur, police said on Tuesday. The incident occurred on Monday night when the family members of Deepu alias Dilip Jatav threw stones and bricks from the roof, police said. During the attack, Deepu escaped.</div>,\n",
       " <div itemprop=\"articleBody\">The Hyderabad Police arrested seven people involved in supplying fake educational certificates to students under the guise of helping them study abroad. The accused made fake SSC, intermediate and degree certificates of various universities and boards and raised money by selling them. \"So far, 70 persons took fake certificates and nearly 30 of them have gone abroad,\" the police said.</div>,\n",
       " <div itemprop=\"articleBody\">A flying squad of the Maharashtra education board detected mass copying taking place during a Higher Secondary Certificate (HSC) examination at a school in Pune district, officials said. Nine teachers, who are suspected of having aided the Class 12 students in using unfair means during the exam, have been booked. Defaulting students' names have been submitted to the education board.</div>,\n",
       " <div itemprop=\"articleBody\">The Shivling at Mumbai's Babulnath Temple has started showing signs of weathering. The temple has approached IIT-Bombay to find solutions for preservation of the Shivling, which is around 350 years old. Further, it has disallowed people from doing 'abhishek' of the Shivling with milk, among other items. Authorities believe adulterated milk may be one of the reasons for the weathering.</div>,\n",
       " <div itemprop=\"articleBody\">The average maximum temperature in Delhi for February this year has been pegged at 27.7°C, the third highest in the last 63 years, according to data shared by officials on Tuesday. Delhi on February 20 had recorded the third hottest February day since 1969, with the maximum temperature at the Safdarjung observatory soaring to 33.6°C. </div>,\n",
       " <div itemprop=\"articleBody\">Leaders of BJP, Congress and Democratic Azad Party came together to protest against the proposed ropeway project at the Vaishno Devi shrine in Katra on Tuesday. This comes days after Jammu and Kashmir Lieutenant Governor Manoj Sinha said the project is in its final phase. The protesters said they won't allow the construction fearing it will leave the locals jobless.</div>,\n",
       " <div itemprop=\"articleBody\">A portion of a concrete slab and fabrication material fell from the 25th floor of the under-construction Lodha Bella Vita in Pune's NIBM area, causing panic among residents of neighbouring housing society. The slab fell on the tin shed of a driveway in adjacent society, thereby damaging it. No one was reportedly present at the spot when the slab fell.</div>,\n",
       " <div itemprop=\"articleBody\">At least 26 people have been killed and 85 others have been injured after a passenger train and a cargo train collided head-on in Greece on Tuesday, officials said. The passenger train had about 350 passengers on board when the collision occurred. As per officials, several carriages came off the rails, with at least two of them catching fire.</div>,\n",
       " <div itemprop=\"articleBody\">Ticketing service provider Eventbrite on Tuesday announced that it will lay off 8% of its global workforce to cut costs amid concerns of an economic slowdown. The company also plans to relocate about 30% of the remaining staff from the US and Argentina to Spain and India. The company employed 881 people as of December 31, 2022.</div>,\n",
       " <div itemprop=\"articleBody\">The estimate of 7% growth in India's GDP in 2022-23 is very realistic, despite growth slowing down in the October-December quarter, Chief Economic Advisor (CEA) V Anantha Nageswaran said. India recorded a 4.4% growth in the quarter, down from 6.3% in the July-September quarter. There are enough signs to show that the manufacturing sector is in good health, he added.</div>]"
      ]
     },
     "execution_count": 13,
     "metadata": {},
     "output_type": "execute_result"
    }
   ],
   "source": [
    "soup.find_all('div', itemprop=\"articleBody\")"
   ]
  },
  {
   "cell_type": "code",
   "execution_count": 14,
   "id": "d5e2da03",
   "metadata": {},
   "outputs": [],
   "source": [
    "# response = requests.get('https://inshorts.com/en/read')\n",
    "# response"
   ]
  },
  {
   "cell_type": "code",
   "execution_count": 15,
   "id": "7f508f18",
   "metadata": {},
   "outputs": [],
   "source": [
    "# soup = BeautifulSoup(response.content, 'html.parser')"
   ]
  },
  {
   "cell_type": "code",
   "execution_count": 16,
   "id": "f0479e0e",
   "metadata": {},
   "outputs": [],
   "source": [
    "# soup.find_all('a', class_=\"active-category \")"
   ]
  },
  {
   "cell_type": "code",
   "execution_count": 17,
   "id": "9945d960",
   "metadata": {},
   "outputs": [],
   "source": [
    "def get_news_articles(topics):\n",
    "    '''takes in a list of topic and return a list with category , title, and content'''\n",
    "        \n",
    "    file = 'news_articles.json'\n",
    "    \n",
    "    if os.path.exists(file):\n",
    "        with open(file) as f:\n",
    "            return json.load(f)\n",
    "        \n",
    "    base_url = 'https://inshorts.com/en/read/'\n",
    "     \n",
    "    lists = []\n",
    "\n",
    "    for topic in topics:\n",
    "        \n",
    "        response = requests.get(base_url + topic)\n",
    "\n",
    "        soup = BeautifulSoup(response.content, 'html.parser')\n",
    "\n",
    "        title = soup.find_all('span', itemprop='headline')\n",
    "\n",
    "        content = soup.find_all('div', itemprop='articleBody')\n",
    "\n",
    "        for i in range(len(title)):\n",
    "\n",
    "            temp_dict = {'category': topic,\n",
    "                         'title': title[i].text,\n",
    "                         'content': content[i].text}\n",
    "\n",
    "            lists.append(temp_dict)\n",
    "            \n",
    "    with open(file, 'w') as f:\n",
    "        json.dump(lists,f)\n",
    "\n",
    "    return lists   "
   ]
  },
  {
   "cell_type": "code",
   "execution_count": 18,
   "id": "b1fafd45",
   "metadata": {},
   "outputs": [
    {
     "data": {
      "text/plain": [
       "[{'category': 'business',\n",
       "  'title': 'Price of 14.2 kg-domestic LPG cylinder hiked by ₹50/unit in Delhi',\n",
       "  'content': 'The price of a domestic 14.2 kg-LPG cylinder has been increased by ₹50/unit and it will now cost ₹1,103/unit in Delhi. The price of a commercial 19 kg-LPG cylinder has also been hiked by ₹350.50/unit, raising the cost to ₹2,119.50/unit in the national capital. This is the second time the price of commercial LPG cylinders has been hiked this year.'},\n",
       " {'category': 'business',\n",
       "  'title': 'Sachin Tendulkar and his wife meet Bill Gates; share pics',\n",
       "  'content': 'Former cricketer Sachin Tendulkar and his wife Anjali Tendulkar met with Microsoft Co-founder Bill Gates in Mumbai on Tuesday. Sharing pictures of the meeting on social media, Sachin Tendulkar wrote, \"We are all students for life. Today was a wonderful learning opportunity to gain perspectives on philanthropy - including children\\'s healthcare, which our Foundation works on.\" '},\n",
       " {'category': 'business',\n",
       "  'title': 'Ambanis should get Z+ security cover across India, abroad; cost to be borne by them: SC',\n",
       "  'content': \"The Supreme Court on Tuesday stated that the Z+ security cover provided to billionaire businessman Mukesh Ambani and his family shouldn't be restricted to Mumbai. It directed Ministry of Home Affairs to ensure that Z+ security cover is made available to them across India and abroad. Entire cost of security shall be borne by the Ambanis, the court added.\"},\n",
       " {'category': 'business',\n",
       "  'title': \"Apple supplier Foxlink's fire safety systems faulty: Fire official\",\n",
       "  'content': \"Most of the fire safety equipment at Apple supplier Foxlink's assembly facility in Andhra Pradesh was not functional, J Ramanaiah, who leads the regional Fire Services Department, said a day after a massive blaze forced production to be halted. Except for fire extinguishers, Ramanaiah said, smoke detectors, sprinklers and fire hydrants were in faulty condition. \"},\n",
       " {'category': 'business',\n",
       "  'title': \"People consuming 30 GB and paying almost nothing: Airtel's Mittal\",\n",
       "  'content': 'Bharti Airtel is looking to raise mobile phone call and data rates across all plans this year. \"Salaries have gone up, rents have gone up except one thing. There\\'s no one complaining. People are consuming 30 GB for almost paying nothing,\" Bharti Airtel\\'s Chairman Sunil Mittal said. Airtel stopped its ₹99 minimum recharge plan which offered 200 MB of data.'},\n",
       " {'category': 'business',\n",
       "  'title': \"India's GDP growth slows down to 4.4% in Oct-Dec quarter\",\n",
       "  'content': \"India's GDP growth rate fell for the second consecutive quarter in October-December, coming in at 4.4%, Ministry of Statistics and Programme Implementation data showed. The latest quarterly growth number is lower than the 6.3% growth that was witnessed in the second quarter of 2022-23. In December, RBI had forecast a growth rate of 4.4% for the last quarter of 2022.\\n\"},\n",
       " {'category': 'business',\n",
       "  'title': 'Apple supplier Foxlink declares 30-day holiday at fire-hit factory',\n",
       "  'content': 'Apple supplier Foxlink has declared a 30-day holiday for its employees, following a massive fire at its assembly facility in Andhra Pradesh on Monday. The Taiwan-based company has declared holiday for a month to around 1,600 workers of the Jinkalamitta plant in Tirupati district, and directed them to return to their respective hometowns, a company official said.'},\n",
       " {'category': 'business',\n",
       "  'title': 'Gujarat receives ₹40,000-cr investment for green energy projects',\n",
       "  'content': 'The Gujarat government has signed an MoU with Abu Dhabi-headquartered Ocior Energy for the production of green hydrogen and green ammonia with an investment of ₹40,000 crore. As per the MoU, Ocior will set up a facility to produce one million tonnes of green hydrogen and ammonia per annum in Gujarat. The project will become operational by 2030.'},\n",
       " {'category': 'business',\n",
       "  'title': \"Razorpay's revenue rises 76% in FY22 in 2nd straight profitable yr\",\n",
       "  'content': \"Fintech unicorn Razorpay's total revenue jumped 76% to ₹1,485.7 crore from ₹844.6 crore in the fiscal year 2022.  The company, which had turned profitable in FY21 on a standalone basis, recorded a profit of ₹7.3 crore, up by 18% in FY22. Razorpay\\ufeff earns revenue from fees paid by merchants, followed by software development and maintenance services and marketing services.\"},\n",
       " {'category': 'business',\n",
       "  'title': 'SoftBank to sell ₹600 cr Delhivery stake via block deals: Report',\n",
       "  'content': \"SoftBank is reportedly planning to sell shares of Gurugram-based logistics and supply chain company Delhivery, worth ₹600 crore, via block deals on March 1. SoftBank may increase the size if there is strong demand. The shares will be sold at a 3-5% discounted rate to current market price. Prior to Delhivery's IPO, SoftBank acquired over 22% stake in the company.\"},\n",
       " {'category': 'business',\n",
       "  'title': 'Retail inflation for industrial workers hits 6.16% in January',\n",
       "  'content': 'Retail inflation for industrial workers rose to 6.16% in January 2023, mainly due to lower prices of certain food items, according to the data released by Labour Ministry. Retail inflation for industrial workers stood at 5.50% during December 2022. The food inflation stood at 5.69% in January as against 4.10% in December last year, data showed.'},\n",
       " {'category': 'business',\n",
       "  'title': \"Turkey's economy grows 5.6% in 2022, growth may slow after quakes\",\n",
       "  'content': \"Turkey's economy expanded by 5.6% in 2022, official data showed on Tuesday. However, growth was expected to slow significantly to 2.8% in 2023 after the earthquakes caused widespread destruction in the country's southern part. Growth stood at 3.5% in the fourth quarter of 2022, down from a revised 4% in the third quarter and 7.8% in the second quarter.\\n\"},\n",
       " {'category': 'business',\n",
       "  'title': 'GDP to likely grow 7% in FY23: Second advance estimates',\n",
       "  'content': \"India's gross domestic product (GDP) may grow 7% for financial year 2022-23, according to the second advance estimates released on Tuesday. The same figure was predicted in the first advance estimates released in early January. The government released the revised estimate of economic growth for financial year 2021-22 at 9.1%. It was estimated at 8.7% in May 2022. \"},\n",
       " {'category': 'business',\n",
       "  'title': 'SEBI cancels registration of 4 brokers in NSEL case',\n",
       "  'content': \"SEBI has cancelled the registration of four stock brokers for facilitating its clients to trade on the platform of now-defunct National Spot Exchange Ltd (NSEL) in illegal 'paired contracts'. The brokers exposed the clients to the risk involved in trading in a product that didn't have regulatory approval, it said. These brokers include Share India Commodity Brokers and Sharewealth Commodities.\"},\n",
       " {'category': 'business',\n",
       "  'title': 'India kept its interest at the top in importing cheaper fuel: FM',\n",
       "  'content': 'Finance Minister Nirmala Sitharaman said that India chose to import cheaper fuel from Russia and other available sources keeping the country\\'s interest in mind. \"We did not come under any pressure, we made sure that affordable fuel came to India. So, we took decisions which put India\\'s interest on the top,\" Sitharaman said.'},\n",
       " {'category': 'business',\n",
       "  'title': 'Eventbrite to cut 8% of jobs, relocate 30% staff to India, Spain',\n",
       "  'content': 'Ticketing service provider Eventbrite on Tuesday announced that it will lay off 8% of its global workforce to cut costs amid concerns of an economic slowdown. The company also plans to relocate about 30% of the remaining staff from the US and Argentina to Spain and India. The company employed 881 people as of December 31, 2022.'},\n",
       " {'category': 'business',\n",
       "  'title': '7% GDP growth still possible in FY23 despite slowdown in Q3: CEA',\n",
       "  'content': \"The estimate of 7% growth in India's GDP in 2022-23 is very realistic, despite growth slowing down in the October-December quarter, Chief Economic Advisor (CEA) V Anantha Nageswaran said. India recorded a 4.4% growth in the quarter, down from 6.3% in the July-September quarter. There are enough signs to show that the manufacturing sector is in good health, he added.\"},\n",
       " {'category': 'business',\n",
       "  'title': 'HDFC, Punjab National Bank hike lending rates by up to 25 bps',\n",
       "  'content': 'Housing finance major HDFC and state-run Punjab National Bank (PNB) on Tuesday announced an increase in their lending interest rates by up to 25 basis points. HDFC has increased its retail prime lending rate by 25 bps to a minimum of 9.20%. PNB increased its Marginal Cost of Funds Based Lending Rate (MCLR) by 10 bps to 8.5% from 8.4%.'},\n",
       " {'category': 'business',\n",
       "  'title': 'Adani falls from 3rd to 33rd spot on the rich list within a month',\n",
       "  'content': \"Billionaire Gautam Adani's position on the Forbes rich list has dropped to the 33rd spot from third position within a month. According to Forbes' real-time tracker, Adani's net worth is currently estimated at $35.1 billion. His net worth, as per Forbes, was $119 billion before the Hindenburg report was published on January 24.\"},\n",
       " {'category': 'business',\n",
       "  'title': 'Oil tankers, bulk carriers over 25 yrs old banned to cut emissions',\n",
       "  'content': 'India has withdrawn trading licences for oil tankers and bulk carriers older than 25 years to cut emissions, the Directorate General of Shipping said. The order also bans the acquisition of vessels that are more than two decades old. Under the current guidelines, vessels that are less than 25 years old can be acquired without any technical clearance.'},\n",
       " {'category': 'business',\n",
       "  'title': 'RIL sets up subsidiary to develop commercial properties',\n",
       "  'content': \"Reliance Industries Limited (RIL) has set up a wholly-owned subsidiary—Reliance SOU—to develop properties for commercial use. RIL has invested ₹1,00,000 in the equity shares of Reliance SOU Limited, it said in a stock exchange filing. RIL's fully-owned subsidiary Model Economic Township Limited is currently engaged in the development of an integrated industrial township in Jhajjar in Haryana.\"},\n",
       " {'category': 'business',\n",
       "  'title': 'In a first, women make up 40% of boards at top UK companies',\n",
       "  'content': \"For the first time in 2022, women's share of board seats at Britain's 350 biggest listed companies reached 40%, a UK government-backed report on Tuesday showed. In February 2022, the FTSE Women Leaders Review set FTSE 350 companies a 40% target for women on boards and in leadership teams by 2025, up from a previous target of 33%.\"},\n",
       " {'category': 'business',\n",
       "  'title': \"India's core sector growth rises to 4-month high at 7.8% in Jan\",\n",
       "  'content': 'Production of eight infrastructure sectors expanded at a four-month high of 7.8% in January 2023, Ministry of Commerce and Industry data showed. The output of core sectors had increased by 4% in January 2022. The production of all the sectors except crude oil increased in the month. Crude oil output contracted by 1.1%, marking the eighth consecutive monthly decline.'},\n",
       " {'category': 'business',\n",
       "  'title': \"Moody's slashes Pak's rating to 'Caa3', changes outlook to stable\",\n",
       "  'content': 'Moody\\'s Investors Service said it has downgraded Pakistan\\'s local and foreign currency issuer and senior unsecured debt ratings to \"Caa3\" from \"Caa1\". The decision is driven by Moody\\'s assessment that Pakistan\\'s \"increasingly fragile liquidity\" significantly \"raises default risks\" to a level consistent with a Caa3 rating. Moody\\'s also changed the country\\'s outlook to \"stable from negative\".'},\n",
       " {'category': 'business',\n",
       "  'title': \"India's manufacturing sector is in 'good health': CEA Nageswaran\",\n",
       "  'content': 'Chief Economic Adviser (CEA) V Anantha Nageswaran on Tuesday said that India\\'s manufacturing sector is in \"good health\". \"Manufacturing...appears to have slowed down in real terms because of the rising input costs...But if you look at the Purchasing Managers\\' Index indicators, the manufacturing sector is in good health,\" he added. Manufacturing sector\\'s GVA contracted by 1.1%  in third quarter.'},\n",
       " {'category': 'sports',\n",
       "  'title': 'The sacrifices Anushka made as a mother are massive: Virat Kohli',\n",
       "  'content': 'Virat Kohli, while talking about his wife Anushka Sharma on a podcast, said the latter has been \"a big inspiration\" for him. \"As a mother, the sacrifices that she (Anushka) made have been massive,\" said Virat during his recent RCB podcast. He added, \"Looking at her, I realised whatever problems I had were nothing.\"'},\n",
       " {'category': 'sports',\n",
       "  'title': \"Sachin to be honoured with life-size statue at Wankhede Stadium, says 'Pleasant surprise'\",\n",
       "  'content': 'Sachin Tendulkar will be honoured with a life-size statue at Mumbai\\'s Wankhede Stadium. \"It\\'ll be the first statue in Wankhede Stadium. We\\'ll decide where it\\'ll be placed,\" Mumbai Cricket Association President Amol Kale stated. \"Pleasant surprise. My career started here. It was...journey with unbelievable memories. Best moment of my career came here when we won 2011 World Cup,\" said Sachin.'},\n",
       " {'category': 'sports',\n",
       "  'title': 'Jasprit Bumrah set to miss IPL 2023: Reports',\n",
       "  'content': 'Team India fast bowler Jasprit Bumrah is set to miss IPL 2023 after being given the option of undergoing a back surgery, ESPNcricinfo reported. Bumrah is yet to completely recover from his back injury. The 29-year-old fast bowler last played a professional match in September last year. Final decision on surgery will be taken soon, ESPNcricinfo added.'},\n",
       " {'category': 'sports',\n",
       "  'title': 'Sachin Tendulkar and his wife meet Bill Gates; share pics',\n",
       "  'content': 'Former cricketer Sachin Tendulkar and his wife Anjali Tendulkar met with Microsoft Co-founder Bill Gates in Mumbai on Tuesday. Sharing pictures of the meeting on social media, Sachin Tendulkar wrote, \"We are all students for life. Today was a wonderful learning opportunity to gain perspectives on philanthropy - including children\\'s healthcare, which our Foundation works on.\" '},\n",
       " {'category': 'sports',\n",
       "  'title': 'Who did Lionel Messi vote for at The Best FIFA Awards?',\n",
       "  'content': \"Argentina and PSG forward Lionel Messi, who won The Best FIFA Men's Player 2022 award, picked Neymar as his first choice for the award. Messi voted for Kylian Mbappe as his second choice and Karim Benzema as his third. Meanwhile, Argentina head coach Lionel Scaloni voted for Messi as first choice, followed by Julián Álvarez and Luka Modrić.\"},\n",
       " {'category': 'sports',\n",
       "  'title': \"ICC names 5 breakout stars of Women's T20 World Cup 2023\",\n",
       "  'content': 'ICC has named five breakout stars of Women\\'s T20 World Cup 2023. ICC included Bangladesh\\'s 18-year-old Marufa Akter, calling her \"one of the quickest bowlers on show\". Ireland\\'s 20-year-old Orla Prendergast, who scored 109 runs in the tournament, has also been included. Other three players include Muneeba Ali (Pakistan), Harshitha Samarawickrama (Sri Lanka) and Karishma Ramharack (West Indies).'},\n",
       " {'category': 'sports',\n",
       "  'title': 'Everyone knows it, jokes Rohit on being introduced as India captain in press conference',\n",
       "  'content': 'While his customary introduction as Team India captain was being given at the beginning of the press conference ahead of the third India-Australia Test, Rohit Sharma jokingly said, \"Sabko pata hai yaar (Everyone knows it).\" Rohit further stated in the press conference that India\\'s playing XI will only be announced during the toss in Indore tomorrow.'},\n",
       " {'category': 'sports',\n",
       "  'title': \"Rohit disagrees with Kohli's '5 Test centres' suggestion, says 'Why just big centres?'\",\n",
       "  'content': 'India captain Rohit Sharma has disagreed with Virat Kohli\\'s suggestion of having five Test centres in the country. Rohit stated, \"Test cricket should be played everywhere in India. Why just big centres? We want to take...cricket to all parts of India.\" He added, \"We haven\\'t seen many people turn up in big centres...That was how other centres started getting Tests.\"'},\n",
       " {'category': 'sports',\n",
       "  'title': \"England's Mark Wood strips to his boxers to take catch in fielding drill, video viral\",\n",
       "  'content': 'A video has gone viral showing England pacer Mark Wood stripping to his boxers to take a catch in a fielding drill in Bangladesh. In the video, Wood can be seen discarding his hat, sunglasses, shirt and shorts before taking a high catch and falling to the ground. A fan jokingly tweeted, \"What kind of catch is he training for?\"'},\n",
       " {'category': 'sports',\n",
       "  'title': 'India announce playing XI for 3rd Test against Australia, KL Rahul dropped',\n",
       "  'content': \"Team India captain Rohit Sharma won the toss and elected to bat first in the third Test against Australia in Indore. Opener KL Rahul has been dropped from Team India's playing XI, with Shubman Gill replacing him. Team India's playing XI also includes fast bowler Umesh Yadav, who has replaced Mohammad Shami.\"},\n",
       " {'category': 'sports',\n",
       "  'title': 'Found happiness in being able to brush my teeth after accident: Rishabh Pant',\n",
       "  'content': 'Cricketer Rishabh Pant, who met with a car accident on December 30, 2022, in a recent interview, said, \"I\\'ve gained a fresh perspective on how I view my life now.\" He added, \"Especially after my accident, I\\'ve found happiness in even being able to brush my teeth every day as well as something like sitting under the sun.\"'},\n",
       " {'category': 'sports',\n",
       "  'title': 'Ronaldo abstains from voting for FIFA awards as Messi named best player',\n",
       "  'content': \"Portugal forward Cristiano Ronaldo abstained from voting in the FIFA awards as Lionel Messi went on to win The Best FIFA Men's Player 2022 award. Portugal's veteran defender Pepe voted as Portugal captain. He chose Kylian Mbappe as his first pick for The Best FIFA Men's Player 2022 award, followed by Luka Modric and Karim Benzema.\"},\n",
       " {'category': 'sports',\n",
       "  'title': \"I went 'What the hell am I doing?': Steve Smith on his dismissal in Delhi\",\n",
       "  'content': 'On being dismissed off sweep shot in second innings of Delhi Test against India, Australia stand-in captain Steve Smith said, \"I went, \\'What the hell am I doing?\\'\" He added, \"I was...angry. There hasn\\'t been too many times in my career where I\\'ve actually come off and just been bedazzled by what I\\'ve done. It wasn\\'t my finest moment.\"'},\n",
       " {'category': 'sports',\n",
       "  'title': \"Worst luck at the worst time: Clarke on Harmanpreet Kaur's run out\",\n",
       "  'content': 'Reacting to India Women captain Harmanpreet Kaur\\'s run out in Women\\'s T20 World Cup 2023 semi-final against Australia, ex-Australia captain Michael Clarke said, \"Worst luck at the worst time.\" \"If the bat didn\\'t get stuck then she would\\'ve been in,\" added Clarke. \"If that run out didn\\'t happen, then Australia would\\'ve found it difficult to make a comeback,\" he stated.'},\n",
       " {'category': 'sports',\n",
       "  'title': 'Never want to drop Rahul but India need someone aggressive: Hogg',\n",
       "  'content': 'Talking about KL Rahul, ex-Australia spinner Brad Hogg said, \"I never, ever want to drop him...[However] his form at the moment presents a problem.\" \"India need someone aggressive at the top of the order, just to take on the Australian bowlers and try to get some momentum. So, I would bring...Shubman Gill in place of Rahul,\" added Hogg.'},\n",
       " {'category': 'sports',\n",
       "  'title': 'Spurs to build karting track under their stadium in tie-up with F1',\n",
       "  'content': \"Tottenham Hotspur are set to build an electric karting facility under their home ground as part of a new 15-year partnership with F1. The facility under the stadium's South Stand will be London's longest indoor track and would be accredited by the National Karting Association. The stadium has already hosted other sports such as American Football, rugby and boxing matches.\"},\n",
       " {'category': 'sports',\n",
       "  'title': 'Aston Martin faster than Ferrari during F1 race testing: Alonso',\n",
       "  'content': 'Fernando Alonso said he\\'s confident that Aston Martin F1 can even challenge the likes of Ferrari in the 2023 season. \"On the last test day...we did a race simulation...did the full race with the full set-up...Ferrari were doing the same program...we were slightly faster,\" said Alonso. He added that the team needs Lance Stroll and \"cannot do it without him\".'},\n",
       " {'category': 'sports',\n",
       "  'title': \"Unadkat's confidence was so high you felt he'd eat you up: Jackson\",\n",
       "  'content': 'Talking about his Saurashtra teammate Jaydev Unadkat, who scripted history by recording a hat-trick in a Ranji Trophy 2022 match against Delhi, cricketer Sheldon Jackson said, \"His confidence was so high.\" \"You felt [that] this guy is going to eat you up,\" added Jackson. \"Unadkat is humble but also confident, exactly what you need in a captain,\" he stated.'},\n",
       " {'category': 'sports',\n",
       "  'title': 'Ashwin, Jadeja getting wickets: Rohit on Akshar being under-bowled',\n",
       "  'content': 'On being asked about why Akshar Patel has not bowled a lot of overs in the first two Test matches against Australia, India captain Rohit Sharma said, \"Ravichandran Ashwin and Ravindra Jadeja have...bowled really well.\" \"If guys are getting wickets from both sides, you\\'ve got to continue to bowl them,\" Rohit said. Patel has taken one wicket in the series. '},\n",
       " {'category': 'sports',\n",
       "  'title': 'Arsenal have the squad depth to become unpredictable: Arteta',\n",
       "  'content': 'Arsenal have the squad depth that can help the team be more \"unpredictable\", said manager Mikel Arteta. \"Players coming back from injury is going to be crucial because players cannot maintain the same level for 10 months, it is just impossible,\" added Arteta. He also said that Arsenal\\'s current lead over Manchester City in the Premier League \"means nothing\".'},\n",
       " {'category': 'sports',\n",
       "  'title': 'Aus were too defensive in 1st Test, too aggressive in 2nd: McGrath',\n",
       "  'content': 'Ex-Australia pacer Glenn McGrath said Australia were too defensive in first Test against India and too aggressive in the second Test against the same opposition. \"If Australia leave the shores with the scoreline not being 4-0...they would\\'ve done well,\" added McGrath. \"I think Australia are relying too much on Steve Smith and Marnus Labuschagne at the moment,\" he stated.'},\n",
       " {'category': 'sports',\n",
       "  'title': \"Things haven't gone to plan for us in series vs India so far: Smith\",\n",
       "  'content': 'Steve Smith, who\\'ll captain Australia in the third Test, said that things haven\\'t gone to plan for them in the Test series against India so far. \"We\\'ve got ourselves into some good positions but not been able to take advantage of them,\" he stated, adding that the team hopes to \"rectify it this week\". India lead the four-match series 2-0.'},\n",
       " {'category': 'sports',\n",
       "  'title': \"We've compiled a strong squad for WPL: Delhi Capitals coach Batty\",\n",
       "  'content': 'Delhi Capitals head coach Jonathan Batty has said the team \"compiled a really strong squad\" for the inaugural Women\\'s Premier League (WPL). \"If we can get the players performing at their maximum potential in the tournament then we should hopefully qualify for the final,\" he added. The squad includes Australia\\'s Meg Lanning, and India batters Jemimah Rodrigues and Shafali Verma.'},\n",
       " {'category': 'sports',\n",
       "  'title': 'All I want is to make the best batters in the world defend: Lyon',\n",
       "  'content': 'Australian spinner Nathan Lyon said all he desires is to make the best batters in the world defend. \"My biggest strength is getting guys on the front foot defending and that will bring in both edges, pads [and] stumps,\" added Lyon. \"It doesn\\'t matter who I am bowling to or what conditions we are faced with,\" he stated.'},\n",
       " {'category': 'sports',\n",
       "  'title': \"Why's it embarrassing: Yuvraj on Piers Morgan's remark on Ten Hag\",\n",
       "  'content': 'Reacting to British broadcaster Piers Morgan terming Manchester United manager Erik ten Hag\\'s dance after winning Carabao Cup as \"embarrassing\", ex-India cricketer Yuvraj Singh tweeted, \"Why\\'s it embarrassing?\" \"Are we not supposed to enjoy...when we win?\" added Yuvraj. \"Can you imagine Sir Alex Ferguson...doing a crazed conga on live TV for winning a third tier trophy?\" read Morgan\\'s response.'},\n",
       " {'category': 'technology',\n",
       "  'title': \"'Best wishes to my classmate,' writes Gates in book gifted to Mahindra, latter shares pic\",\n",
       "  'content': 'Businessman Anand Mahindra on Tuesday met Microsoft Co-founder Bill Gates, who is currently on a visit to India. Mahindra said that Gates gifted an autographed copy of his book to him with a message saying, \"Best wishes to my classmate!\" Mahindra had earlier said that Gates started Harvard College the same year as him in 1973 but later dropped out.'},\n",
       " {'category': 'technology',\n",
       "  'title': 'Fake LinkedIn profile of founder created using AI gets funding offer within 24 hrs',\n",
       "  'content': 'Walnut CEO Roshan Patel revealed that he created a fake LinkedIn profile of a founder and received an investment offer within 24 hours. Patel used an AI-generated picture of a \"white male face\" for the profile of Chad Smith, a former Stripe employee and Stanford dropout. An investor messaged Smith saying, \"I\\'d love to connect to...share more about our fund.\"'},\n",
       " {'category': 'technology',\n",
       "  'title': 'Identify 10 problems of the society that AI can solve: PM to tech stakeholders',\n",
       "  'content': \"PM Narendra Modi on Tuesday asked tech stakeholders whether they could identify 10 problems of the society that can be solved using artificial intelligence (AI). Addressing the post-budget webinar on 'Unleashing the Potential — Ease of Living using Technology', he said that India is creating a modern digital infrastructure. Technologies like 5G and AI are leading conversations now, he added.\"},\n",
       " {'category': 'technology',\n",
       "  'title': 'Tesla pauses rollout of self-driving software amid recall in US',\n",
       "  'content': 'Tesla paused rollout of the Full Self-Driving (FSD) Beta software until it addresses issues causing the carmaker to recall nearly 3,63,000 vehicles in US and Canada. The pause will impact customers who opted for the Beta feature but are yet to receive the update. The US National Highway Traffic Safety Administration said the feature can increase crash risk. '},\n",
       " {'category': 'technology',\n",
       "  'title': 'Apple supplier Foxlink declares 30-day holiday at fire-hit factory',\n",
       "  'content': 'Apple supplier Foxlink has declared a 30-day holiday for its employees, following a massive fire at its assembly facility in Andhra Pradesh on Monday. The Taiwan-based company has declared holiday for a month to around 1,600 workers of the Jinkalamitta plant in Tirupati district, and directed them to return to their respective hometowns, a company official said.'},\n",
       " {'category': 'technology',\n",
       "  'title': 'ISRO successfully conducts key engine test for Chandrayaan-3',\n",
       "  'content': 'ISRO on Monday announced the successful completion of the flight acceptance hot test of the CE-20 cryogenic engine that will power the cryogenic upper stage of the launch vehicle for the Chandrayaan-3 mission. The test was carried out for 25 seconds. \"All the propulsion parameters during the test were found satisfactory and closely matched with predictions,\" ISRO said.'},\n",
       " {'category': 'technology',\n",
       "  'title': 'Apple largest job creator in electronics after PLI launch: Report',\n",
       "  'content': \"Apple's vendors and suppliers in India generated 1 lakh direct jobs in the 19 months since the launch of government's Production Linked Incentive (PLI) scheme, Business Standard reported. This made Apple the single largest job creator in the electronics sector. Out of the total jobs, reportedly 60% were from three iPhone assemblers, Foxconn Hon Hai, Pegatron and Wistron.\"},\n",
       " {'category': 'technology',\n",
       "  'title': 'Soon our farmers will produce green fuel & green hydrogen: Gadkari',\n",
       "  'content': 'Union Minister for Road Transport and Highways Nitin Gadkari said that India imports ₹16 lakh crore worth of fossil fuel every year \"but pretty soon our farmers will produce green fuel and green hydrogen\". \"Hydrogen is our future fuel and India\\'s future vehicles will run on hydrogen and green fuels,\" Gadkari added.'},\n",
       " {'category': 'technology',\n",
       "  'title': 'Technology will help India become developed nation by 2047: PM',\n",
       "  'content': 'Technology will help India achieve the target of becoming a developed nation by 2047, PM Narendra Modi said on Tuesday. India is creating a modern digital infrastructure and ensuring that the benefits of the digital revolution reach everyone, he added. \"We want to reduce the compliance cost of small businesses...We have finished 40,000 compliances,\" PM Modi further said.\\n'},\n",
       " {'category': 'technology',\n",
       "  'title': 'India awarded Government Leadership Award at Mobile World Congress',\n",
       "  'content': 'India has been awarded the Government Leadership Award at the Mobile World Congress 2023 in Barcelona. India \"has a long list of achievements over the past year, including a highly successful 5G spectrum auction\", Mobile World Congress said. IT Minister Ashwini Vaishnaw said the award is a \"recognition of Prime Minister Narendra Modi\\'s efforts in the telecom sector\".'},\n",
       " {'category': 'technology',\n",
       "  'title': 'ONDC offers discounts to raise daily transactions to 5,000: Report',\n",
       "  'content': 'The government-backed Open Network for Digital Commerce (ONDC) has reportedly started offering discount coupons to users to increase the daily number of transactions on the platform to 5,000 from the current 200. The scheme will run through March, Moneycontrol reported. ONDC will reportedly also establish monitoring systems to prevent the misuse of incentives.'},\n",
       " {'category': 'technology',\n",
       "  'title': '5G to make our cities smarter, society safer: Akash Ambani',\n",
       "  'content': 'Reliance Jio Chairman Akash Ambani said the impact that 5G will have on India\\'s growing economy is immense. \"5G will make our cities smarter and society safer, utilities more stable and emergency services more responsive and industry more efficient,\" he added. \"5G technologies have had a profound impact on modern societies...5G is...among the top contenders of this technology,\" he said.\\n'},\n",
       " {'category': 'technology',\n",
       "  'title': 'Meta-founded tool to help minors remove explicit images online',\n",
       "  'content': \"Facebook parent company Meta-founded free online tool 'Take it Down' was launched by the National Center for Missing and Exploited Children (NCMEC) in US to help minors remove their sexually explicit images from the internet. The tool will work on unencrypted and public online platforms. Online platforms such as Facebook, Instagram, OnlyFans and Pornhub will integrate this tool. \"},\n",
       " {'category': 'technology',\n",
       "  'title': \"Govt completes Vi's ₹16,133 cr debt-to-equity conversion: Report\",\n",
       "  'content': 'The Finance Ministry has completed the debt-to-equity conversion in Vodafone Idea (Vi) of its ₹16,133 crore interest dues and the government now holds a 33.4% stake, sources told Moneycontrol. \"The government does not intend to stay in it for long, and will look for an exit route once the share price is above ₹10,\" the sources added.\\n'},\n",
       " {'category': 'technology',\n",
       "  'title': \"MoS IT launches Grievance Appellate Committee for users' appeals\",\n",
       "  'content': 'Minister of State for Electronics and IT Rajeev Chandrasekhar launched the Grievance Appellate Committee for users to appeal against the decision of grievance officers of social media platforms. Last month, the IT Ministry asked for three Grievance Appellate Committees (GACs) as required under the amended IT rules. \"The move is to make sure that the internet remains...safe,\" Chandrasekhar said.'},\n",
       " {'category': 'technology',\n",
       "  'title': 'Rajasthan to set up ₹147 cr IT development centre for e-governance',\n",
       "  'content': 'Rajasthan will set up the Rajiv Gandhi Centre for IT Development and e-Governance to tackle cyber crime, for which CM Ashok Gehlot approved ₹147.55 crore. According to a statement, the centre will \"develop a digital ecosystem for blockchain, cyber security, IFMS and data security\". It will create awareness about online fraud and will develop skills for use of blockchain technology.'},\n",
       " {'category': 'technology',\n",
       "  'title': 'Musk may appoint Boring Company CEO Davis as Twitter head: Report',\n",
       "  'content': 'Elon Musk may appoint his tunnel construction firm The Boring Company\\'s CEO Steve Davis as Twitter\\'s next CEO, Platformer reported. Musk had tasked Davis to cut Twitter\\'s costs by $500 million. David ended up cutting nearly $1 billion and his success in \"bringing costs down by any means necessary\" has caused internal speculations that Musk will choose him, Platformer said.'},\n",
       " {'category': 'technology',\n",
       "  'title': 'Govt aiming to pass Telecom Bill in Monsoon Session: Vaishnaw',\n",
       "  'content': 'The next major target for the government is to get the Telecom Bill passed during the upcoming Monsoon Session, Union Minister Ashwini Vaishnaw said on Tuesday. The bill will introduce significant reforms in terms of spectrum, licences and regulation, he added. According to the draft bill, internet-based over-the-top (OTT) services like WhatsApp will be brought under telecommunication services.'},\n",
       " {'category': 'technology',\n",
       "  'title': 'Gujarat receives ₹40,000-cr investment for green energy projects',\n",
       "  'content': 'The Gujarat government has signed an MoU with Abu Dhabi-headquartered Ocior Energy for the production of green hydrogen and green ammonia with an investment of ₹40,000 crore. As per the MoU, Ocior will set up a facility to produce one million tonnes of green hydrogen and ammonia per annum in Gujarat. The project will become operational by 2030.'},\n",
       " {'category': 'technology',\n",
       "  'title': 'No machine can compete with power of human mind: Narayana Murthy',\n",
       "  'content': 'Infosys Founder NR Narayana Murthy said humans have the power of the mind, which no machine can compete with. Human mind is one step ahead of technology and it is capable of becoming its \"master\", Murthy said. \"Many thought at one point of time that all these computers will make us more free. It hasn\\'t happened,\" he added.'},\n",
       " {'category': 'technology',\n",
       "  'title': 'Microsoft adds new Bing to Windows computers in AI push',\n",
       "  'content': \"Microsoft on Tuesday started adding its recently upgraded Bing search engine to its Windows computer software in an effort to roll out artificial intelligence to hundreds of millions of people. In addition to the new Bing, Microsoft's Windows update will include software that can connect to iPhone messages and calls starting with a limited set of users, the company said.\\n\\n\\n\"},\n",
       " {'category': 'technology',\n",
       "  'title': 'Spanish man jailed for slapping wife during TikTok livestream',\n",
       "  'content': \"A Spanish court has sentenced a man who slapped his wife during a TikTok livestream guilty to one year in prison. The court also banned the man from coming within 300 metres of his wife or communicating with her for three years. The man allegedly hit his wife's face so hard during the livestream in January that she started crying. \"},\n",
       " {'category': 'technology',\n",
       "  'title': \"Musk, Tesla face shareholders' lawsuit in US over self-driving EVs\",\n",
       "  'content': 'Tesla shareholders filed a lawsuit in the US against the company and its CEO Elon Musk, accusing them of misleading them over the effectiveness of the self-driving technology in their electric vehicles (EVs). Tesla had recalled 3.62 lakh vehicles in February after a US regulator raised questions over the technology. The lawsuit has sought unspecified monetary compensation for the shareholders.'},\n",
       " {'category': 'technology',\n",
       "  'title': \"Foxlink's Andhra plant may not fully operate for 2 months: Report\",\n",
       "  'content': \"Apple supplier Foxlink's plant in Andhra Pradesh, where a massive fire broke out on Monday, is reportedly unlikely to resume full operations for two months. As per Reuters, four out of the 10 assembly lines at the plant were completely damaged. The remaining six assembly lines were unaffected by the fire incident and will resume operations later this week.\"},\n",
       " {'category': 'technology',\n",
       "  'title': 'White House gives govt agencies 30 days to implement TikTok ban',\n",
       "  'content': 'The White House on Monday gave government agencies 30 days to remove Chinese-owned app TikTok from government-issued devices and systems. This comes after the Congress passed a bill in December to ban the application amid national security fears that Beijing could use it to spy on Americans. Canada, the European Union, Taiwan have also banned the application.'},\n",
       " {'category': 'entertainment',\n",
       "  'title': \"Thank you all the haters, those who blacklisted me: Hazel in her b'day post\",\n",
       "  'content': 'Actress Hazel Keech, wife of former cricketer Yuvraj Singh, took to Instagram to share a message on her 36th birthday. \"This birthday...I\\'d like to thank all the haters, backbiters, manipulators, the people that shun me and bad mouth me,\" she wrote. She also thanked those who blacklisted her from work and trolled her, saying that it made her skin thicker.'},\n",
       " {'category': 'entertainment',\n",
       "  'title': 'The sacrifices Anushka made as a mother are massive: Virat Kohli',\n",
       "  'content': 'Virat Kohli, while talking about his wife Anushka Sharma on a podcast, said the latter has been \"a big inspiration\" for him. \"As a mother, the sacrifices that she (Anushka) made have been massive,\" said Virat during his recent RCB podcast. He added, \"Looking at her, I realised whatever problems I had were nothing.\"'},\n",
       " {'category': 'entertainment',\n",
       "  'title': 'Missing head of 28-year-old model found in soup pot in Hong Kong',\n",
       "  'content': 'A skull and ribs believed to be of Hong Kong model Abby Choi were found in a soup pot of a house. Police had earlier stated they were \"looking for the head\" of the 28-year-old after her limbs were discovered inside a refrigerator. Her ex-husband Alex Kwong, his father Kwong Kau and brother Anthony Kwong were charged with murder.'},\n",
       " {'category': 'entertainment',\n",
       "  'title': \"Was nervous dancing with Sridevi & Urmila: Anil on 'Judaai'\",\n",
       "  'content': 'Marking 26 years since the release of his film \\'Judaai\\', Anil Kapoor on Tuesday shared throwback pictures with his co-stars Sridevi and Urmila Matondkar from the sets. \"Decision to do Judaai wasn\\'t easy...for me...but I\\'m...glad that I chose to do it,\" Anil wrote, adding, \"I still remember how nervous I was dancing with Sri ji & Urmila as they...are...incredible dancers.\"'},\n",
       " {'category': 'entertainment',\n",
       "  'title': \"A common man: Kartik Aaryan as fan asks who's his inspiration\",\n",
       "  'content': 'Kartik Aaryan, during an #AskKartik session on Twitter, was asked by a fan to talk about his inspiration. He replied, \"A common man who works day and night tirelessly to bring smile on their loved [one\\'s] face.\" Kartik recently won his first Best Actor award for \\'Bhool Bhulaiyaa 2\\'. Talking about it, Kartik wrote, \"It happened after a long wait.\"'},\n",
       " {'category': 'entertainment',\n",
       "  'title': 'Naseeruddin thanked God for less romantic scenes with me: Sandhya',\n",
       "  'content': 'Actress Sandhya Mridul, while speaking about her \\'Taj: Divided by Blood\\' scenes, said that actor Naseeruddin Shah thanked God for not having many romantic scenes with her. \"He always used to say, \\'Oh My God! This girl looks too young...Sandhya Mridul do you ever age?\\'...even if there was a little discomfort during the scene...he used to just joke,\" Mridul added. '},\n",
       " {'category': 'entertainment',\n",
       "  'title': \"Courteney gets star on H'wood Walk of Fame, Aniston pens note\",\n",
       "  'content': 'Actress Courteney Cox was honoured with a star on the Hollywood Walk of Fame. Along with Courteney, the ceremony was also attended by her \\'Friends\\' co-stars Jennifer Aniston and Lisa Kudrow. Sharing some pictures from the ceremony, Aniston wrote on Instagram, \"Very proud of our girl Courteney Cox...Lisa and I were on a cloud being able to celebrate...her incredible achievements.\"   '},\n",
       " {'category': 'entertainment',\n",
       "  'title': \"Reactions to trailer are too special: Rani on 'Mrs Chatterjee...'\",\n",
       "  'content': 'Actress Rani Mukerji said that the reactions to the trailer of her upcoming film \\'Mrs Chatterjee Vs Norway\\' are \"too special and overwhelming\" for her. \"In my entire career, this is probably the first time I am witnessing so much love and emotion of this kind for my work,\" she added. The film is set to release on March 17.   '},\n",
       " {'category': 'entertainment',\n",
       "  'title': \"It's been pretty psychotic: Shahid Kapoor on his journey as actor\",\n",
       "  'content': 'Shahid Kapoor spoke about his journey as an actor, calling it \"pretty psychotic\". \"When I look back at my own career, I am like \\'what was I thinking with some of the choices?\\'\" Shahid said, adding, \"\\'Kaminey\\' followed up by \\'Dil Bole Hadippa!\\', \\'Haider\\' followed up by \\'R Rajkumar\\'. I don\\'t know what was going on with me.\"   '},\n",
       " {'category': 'entertainment',\n",
       "  'title': ' My dream was to be a Mani Ratnam heroine: Aditi Rao Hydari',\n",
       "  'content': 'Actress Aditi Rao Hydari said that her dream was to be a Mani Ratnam heroine. \"I knew that I have to speak Tamil because that is his language, you know, and he would be happiest making a Tamil film,\" she further added. Aditi will next be seen in the series \\'Taj: Divided by Blood\\' where the actress will play Anarkali.'},\n",
       " {'category': 'entertainment',\n",
       "  'title': \"This is my age to make mistakes: Sara on her B'wood journey\",\n",
       "  'content': 'Actress Sara Ali Khan, speaking about her journey in Bollywood, has said that she always tries to learn something. \"But I also feel that I have made some mistakes. I have done such films which have not been loved by the audience. But then again, this is my age to make mistakes,\" she stated. Sara made her debut with \\'Kedarnath\\'.'},\n",
       " {'category': 'entertainment',\n",
       "  'title': \"Buying PR isn't success: Sona Mohapatra after tweet on Shehnaaz\",\n",
       "  'content': 'Singer Sona Mohapatra tweeted that \"sucking up to successful men\" and \"buying PR\" isn\\'t success. \"Spend some money, time...on getting...education...Practice...craft you want to project as your talent, profession,\" she added. Sona\\'s new tweet has come days after a tweet in which she wrote that she doesn\\'t know what\\'s Shehnaaz Gill\\'s talent \"apart from [being a] low-brow reality TV fame\".'},\n",
       " {'category': 'entertainment',\n",
       "  'title': 'Sometimes, I did films just to pay the rent: Sharmila Tagore  ',\n",
       "  'content': 'Veteran actress Sharmila Tagore in an interview opened up about how she picked the projects back in the 70s and 80s. She revealed that she sometimes did films \"for money, just to pay the rent\". \"Sometimes we help a colleague or somebody who thinks if I\\'m in the project, the project will do well,\" she added.  '},\n",
       " {'category': 'entertainment',\n",
       "  'title': 'Need to cast big actor to attract numbers: Abhinay Deo on OTT',\n",
       "  'content': 'Filmmaker Abhinay Deo, speaking about OTT content, has said, \"It\\'s good because the format allows us to do so much more. But at the same time, [OTT content] has started getting into a rut.\" He added that they are being dominated by the need for numbers. \"So, we need to [cast] big actors in the projects,\" he added.'},\n",
       " {'category': 'entertainment',\n",
       "  'title': 'I distance myself from Hindu, pseudo-liberal propaganda: Rajamouli',\n",
       "  'content': 'Filmmaker SS Rajamouli has said that no one has approached him to make an \"agenda film\". \"I distance myself from either Hindu or pseudo-liberal propaganda. I know there are audience members from those extreme groups in my audience. I know that but I\\'m not catering to them,\" he stated. He added he\\'s catering to the \"emotional needs\" of the audience.'},\n",
       " {'category': 'entertainment',\n",
       "  'title': \"Used to hate it when people used to say 'Oh, you are cute': Shahid\",\n",
       "  'content': 'Shahid Kapoor spoke about being called \\'cute\\' by his fans and said, \"I used to hate it when people used to say \\'Oh, you are cute\\'.\" \"Like why would you say that? I never liked that word,\" he added. \"I\\'ve learnt to be graceful and accept when people throw it at you...I just felt it was very limiting,\" said Shahid.    '},\n",
       " {'category': 'entertainment',\n",
       "  'title': 'Farhan Akhtar cancels Australia tour, pens note for fans',\n",
       "  'content': 'Farhan Akhtar took to Instagram to share that his band, FarhanLive, won\\'t be able to perform in Australia due to \"unforeseen circumstances\". He wrote, \"Please believe me when I say...we share your disappointment. However, I do hope to come to your beautiful country...and perform for you.\" His band was set to perform in Sydney and Melbourne over the weekend.    '},\n",
       " {'category': 'entertainment',\n",
       "  'title': \"I thought I'd have to audition: Masaba on 'Marvel's Wastelanders'\",\n",
       "  'content': 'Speaking about being part of the Hindi audio series \\'Marvel\\'s Wastelanders\\', Masaba Gupta said she thought she would have to audition for the part. \"It\\'s great...India is on everyone\\'s mind right now. Look at...\\'RRR\\' doing so well. Content from across the world is being consumed by people,\" she added. Kareena Kapoor Khan will also be part of the Audible series.'},\n",
       " {'category': 'entertainment',\n",
       "  'title': \"Thrilled to have our baby delivered in India: Ram Charan's wife\",\n",
       "  'content': 'Actor Ram Charan\\'s wife Upasana Kamineni Konidela said in a statement that they are thrilled to have their first child delivered in India. \"This journey holds many exciting experiences for us and we look forward to this new phase in our lives with great anticipation,\" the statement added. Ram and Upasana announced their pregnancy in December last year.'},\n",
       " {'category': 'entertainment',\n",
       "  'title': \"Saiyami to play para-athlete in R Balki's 'Ghoomer'\",\n",
       "  'content': 'Actress Saiyami Kher will play the role of a para-athlete in R Balki\\'s \\'Ghoomer\\'. \"I could never...step into the shoes of a real-life para-athlete, but even small hurdles I had to overcome being an athlete myself, reminded me of things we take for granted,\" she stated. Speaking about filming \\'Ghoomer\\', Saiyami said it was a \"physically and emotionally challenging time\".'},\n",
       " {'category': 'entertainment',\n",
       "  'title': \"Ram Charan's RC15 to clash with Kamal Haasan's Indian 2: Report\",\n",
       "  'content': \"The release date of actor Ram Charan's upcoming film will reportedly clash with Kamal Haasan's 'Indian 2'. According to reports, both films will release on Makar Sankranti next year. Ram's upcoming film is tentatively titled 'RC 15'. Kamal's 'Indian 2' is directed by Shankar and the film is a sequel to his 1996 film 'Indian'. \"},\n",
       " {'category': 'entertainment',\n",
       "  'title': 'Said sorry to mom after doing underwear ad: Michael B Jordan   ',\n",
       "  'content': 'Actor-filmmaker Michael B Jordan revealed that he apologised to his mother before the pictures from his underwear ad hit the internet. \"I was like, my mama going to have to see this. Let me call her and be like, \\'I\\'m sorry. It\\'s out here.\\' My business all out in the streets - literally,\" Michael, who starred in \\'Black Panther\\', said.    '},\n",
       " {'category': 'entertainment',\n",
       "  'title': 'Was told I can either be composer, lyricist or singer: Kuhad',\n",
       "  'content': 'Singer Prateek Kuhad revealed a Bollywood director, who he didn\\'t name, once told him he can either be a composer, lyricist or singer but not all three. \"I was like I want to do all three because I can,\" he stated. Speaking about the unnamed director, Kuhad said, \"He has made a lot of fairly big mid-budget films that did...well.\" '},\n",
       " {'category': 'entertainment',\n",
       "  'title': 'Brand rejected me as model, later signed me as ambassador: Sobhita',\n",
       "  'content': 'Sobhita Dhulipala revealed that she was once rejected as a background model for a brand that later signed her as a brand ambassador. \"I was with Aishwarya Rai Bachchan, passing shampoos, doing the ad, and I\\'m just like nice. It\\'s nice to be here,\" she added. Sobhita was recently seen in Aditya Roy Kapur and Anil Kapoor-starrer \\'The Night Manager\\'.   '},\n",
       " {'category': 'entertainment',\n",
       "  'title': \"'Jab We Met' happens once in two decades: Shahid Kapoor\",\n",
       "  'content': 'Actor Shahid Kapoor opened up about his 2007 film \\'Jab We Met\\' and said that a film like this happens once in two decades. \"Most of the films one does in this genre are bad, so one needs to pick up a decent script...Imtiaz Ali and I were also chatting to find something in this space again,\" he added.'}]"
      ]
     },
     "execution_count": 18,
     "metadata": {},
     "output_type": "execute_result"
    }
   ],
   "source": [
    "topics = ['business', 'sports', 'technology', 'entertainment']\n",
    "\n",
    "get_news_articles(topics)"
   ]
  },
  {
   "cell_type": "code",
   "execution_count": null,
   "id": "6ca626ba",
   "metadata": {},
   "outputs": [],
   "source": []
  }
 ],
 "metadata": {
  "kernelspec": {
   "display_name": "Python 3 (ipykernel)",
   "language": "python",
   "name": "python3"
  },
  "language_info": {
   "codemirror_mode": {
    "name": "ipython",
    "version": 3
   },
   "file_extension": ".py",
   "mimetype": "text/x-python",
   "name": "python",
   "nbconvert_exporter": "python",
   "pygments_lexer": "ipython3",
   "version": "3.9.13"
  }
 },
 "nbformat": 4,
 "nbformat_minor": 5
}
