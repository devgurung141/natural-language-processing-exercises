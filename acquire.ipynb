{
 "cells": [
  {
   "cell_type": "code",
   "execution_count": 1,
   "id": "f67d3cfe",
   "metadata": {},
   "outputs": [],
   "source": [
    "import requests\n",
    "from bs4 import BeautifulSoup\n",
    "import os\n",
    "\n",
    "import numpy as np\n",
    "import json\n"
   ]
  },
  {
   "cell_type": "markdown",
   "id": "ccf4b607",
   "metadata": {},
   "source": [
    "##### 1. Visit Codeup's Blog and record the urls for at least 5 distinct blog posts. For each post, you should scrape at least the post's title and content.\n",
    "- Encapsulate your work in a function named get_blog_articles that will return a list of dictionaries, with each dictionary representing one article. The shape of each dictionary should look like this:\n",
    "\n",
    "{\n",
    "    \n",
    "   'title': 'the title of the article',\n",
    "    \n",
    "   'content': 'the full text content of the article'\n",
    "   \n",
    "}\n"
   ]
  },
  {
   "cell_type": "code",
   "execution_count": 2,
   "id": "0ce63943",
   "metadata": {},
   "outputs": [
    {
     "data": {
      "text/plain": [
       "<Response [200]>"
      ]
     },
     "execution_count": 2,
     "metadata": {},
     "output_type": "execute_result"
    }
   ],
   "source": [
    "url = 'https://codeup.com/blog/'\n",
    "headers = {'User-Agent': 'Codeup Data Science'}\n",
    "response = requests.get(url, headers=headers)\n",
    "response"
   ]
  },
  {
   "cell_type": "code",
   "execution_count": 3,
   "id": "de3a540f",
   "metadata": {
    "scrolled": true
   },
   "outputs": [],
   "source": [
    "# response.text"
   ]
  },
  {
   "cell_type": "code",
   "execution_count": 4,
   "id": "3eff23ef",
   "metadata": {},
   "outputs": [],
   "source": [
    "soup = BeautifulSoup(response.content, 'html.parser')\n",
    "# soup"
   ]
  },
  {
   "cell_type": "code",
   "execution_count": 5,
   "id": "38c5b842",
   "metadata": {
    "scrolled": false
   },
   "outputs": [
    {
     "data": {
      "text/plain": [
       "[<a class=\"more-link\" href=\"https://codeup.com/codeup-news/panelist-spotlight-4/\">read more</a>,\n",
       " <a class=\"more-link\" href=\"https://codeup.com/events/black-excellence-in-tech-panelist-spotlight-stephanie-jones/\">read more</a>,\n",
       " <a class=\"more-link\" href=\"https://codeup.com/events/black-excellence-in-tech-panelist-spotlight-james-cooper/\">read more</a>,\n",
       " <a class=\"more-link\" href=\"https://codeup.com/events/black-excellence-in-tech-panelist-spotlight/\">read more</a>,\n",
       " <a class=\"more-link\" href=\"https://codeup.com/tips-for-prospective-students/coding-bootcamp-or-self-learning/\">read more</a>,\n",
       " <a class=\"more-link\" href=\"https://codeup.com/codeup-news/codeup-best-bootcamps/\">read more</a>]"
      ]
     },
     "execution_count": 5,
     "metadata": {},
     "output_type": "execute_result"
    }
   ],
   "source": [
    "article_links = soup.find_all('a', class_='more-link')\n",
    "article_links"
   ]
  },
  {
   "cell_type": "code",
   "execution_count": null,
   "id": "85849ac5",
   "metadata": {
    "scrolled": false
   },
   "outputs": [],
   "source": [
    "lists = [] \n",
    "for element in article_links:\n",
    "\n",
    "    url = element['href']\n",
    "    headers = {'User-Agent': 'Codeup Data Science'}\n",
    "    response = requests.get(url, headers=headers)\n",
    "#     print(response)\n",
    "    soup = BeautifulSoup(response.content, 'html.parser')\n",
    "#     print(soup.h1.text)\n",
    "    dicts = {'title': soup.h1.text, \n",
    "             'content':soup.find('div', class_ = 'entry-content').text}\n",
    "    lists.append(dicts)"
   ]
  },
  {
   "cell_type": "code",
   "execution_count": null,
   "id": "b7516378",
   "metadata": {
    "scrolled": false
   },
   "outputs": [],
   "source": [
    "# lists"
   ]
  },
  {
   "cell_type": "code",
   "execution_count": null,
   "id": "67c1014b",
   "metadata": {},
   "outputs": [],
   "source": [
    "def get_blog_articles(url):\n",
    "    \n",
    "    '''takes in url, returns a list with a dictionary containing title and content of each article'''\n",
    "    file = 'blog_articles.json'\n",
    "    if os.path.exists(file):\n",
    "        with open(file) as f:\n",
    "            return json.load(f)\n",
    "        \n",
    "    headers = {'User-Agent': 'Codeup Data Science'}\n",
    "    response = requests.get(url, headers=headers)\n",
    "    soup = BeautifulSoup(response.content, 'html.parser')\n",
    "    article_links = soup.find_all('a', class_='more-link')\n",
    "    lists = [] \n",
    "    \n",
    "    for element in article_links:\n",
    "        url = element['href']\n",
    "        response = requests.get(url, headers=headers)\n",
    "        soup = BeautifulSoup(response.content, 'html.parser')\n",
    "        dicts = {'title': soup.h1.text, \n",
    "                 'content':soup.find('div', class_ = 'entry-content').text}\n",
    "        lists.append(dicts )\n",
    "    with open(file, 'w') as f:\n",
    "        json.dump(lists,f)\n",
    "        \n",
    "    return lists\n",
    "   "
   ]
  },
  {
   "cell_type": "code",
   "execution_count": null,
   "id": "c542cc23",
   "metadata": {},
   "outputs": [],
   "source": [
    "url = 'https://codeup.com/blog/'\n",
    "get_blog_articles(url)"
   ]
  },
  {
   "cell_type": "markdown",
   "id": "0c6664d7",
   "metadata": {},
   "source": [
    "#### 2. We will now be scraping text data from inshorts, a website that provides a brief overview of many different topics.\n",
    "Write a function that scrapes the news articles for the following topics:\n",
    "\n",
    "- Business\n",
    "- Sports\n",
    "- Technology\n",
    "- Entertainment\n",
    "\n",
    "The end product of this should be a function named get_news_articles that returns a list of dictionaries, where each dictionary has this shape:\n",
    "\n",
    "{\n",
    "\n",
    "'title': 'The article title',\n",
    "\n",
    "'content': 'The article content',\n",
    "    \n",
    "'category': 'business' # for example\n",
    "\n",
    "}\n"
   ]
  },
  {
   "cell_type": "code",
   "execution_count": null,
   "id": "435c8cb2",
   "metadata": {},
   "outputs": [],
   "source": [
    "url = 'https://inshorts.com/en/read'\n",
    "response = requests.get(url)\n",
    "response"
   ]
  },
  {
   "cell_type": "code",
   "execution_count": null,
   "id": "5994bba9",
   "metadata": {},
   "outputs": [],
   "source": [
    "soup = BeautifulSoup(response.content, 'html.parser')"
   ]
  },
  {
   "cell_type": "code",
   "execution_count": null,
   "id": "710818f7",
   "metadata": {},
   "outputs": [],
   "source": [
    "soup.find_all('span', itemprop=\"headline\")"
   ]
  },
  {
   "cell_type": "code",
   "execution_count": null,
   "id": "d8a506bc",
   "metadata": {},
   "outputs": [],
   "source": [
    "soup.find_all('div', itemprop=\"articleBody\")"
   ]
  },
  {
   "cell_type": "code",
   "execution_count": null,
   "id": "d5e2da03",
   "metadata": {},
   "outputs": [],
   "source": [
    "# response = requests.get('https://inshorts.com/en/read')\n",
    "# response"
   ]
  },
  {
   "cell_type": "code",
   "execution_count": null,
   "id": "7f508f18",
   "metadata": {},
   "outputs": [],
   "source": [
    "# soup = BeautifulSoup(response.content, 'html.parser')"
   ]
  },
  {
   "cell_type": "code",
   "execution_count": null,
   "id": "f0479e0e",
   "metadata": {},
   "outputs": [],
   "source": [
    "# soup.find_all('a', class_=\"active-category \")"
   ]
  },
  {
   "cell_type": "code",
   "execution_count": null,
   "id": "9945d960",
   "metadata": {},
   "outputs": [],
   "source": [
    "def get_news_articles(topics):\n",
    "    '''takes in a list of topic and return a list with category , title, and content'''\n",
    "        \n",
    "    file = 'news_articles.json'\n",
    "    \n",
    "    if os.path.exists(file):\n",
    "        with open(file) as f:\n",
    "            return json.load(f)\n",
    "        \n",
    "    base_url = 'https://inshorts.com/en/read/'\n",
    "     \n",
    "    lists = []\n",
    "\n",
    "    for topic in topics:\n",
    "        \n",
    "        response = requests.get(base_url + topic)\n",
    "\n",
    "        soup = BeautifulSoup(response.content, 'html.parser')\n",
    "\n",
    "        title = soup.find_all('span', itemprop='headline')\n",
    "\n",
    "        content = soup.find_all('div', itemprop='articleBody')\n",
    "\n",
    "        for i in range(len(title)):\n",
    "\n",
    "            temp_dict = {'category': topic,\n",
    "                         'title': title[i].text,\n",
    "                         'content': content[i].text}\n",
    "\n",
    "            lists.append(temp_dict)\n",
    "            \n",
    "    with open(file, 'w') as f:\n",
    "        json.dump(lists,f)\n",
    "\n",
    "    return lists   "
   ]
  },
  {
   "cell_type": "code",
   "execution_count": null,
   "id": "b1fafd45",
   "metadata": {},
   "outputs": [],
   "source": [
    "topics = ['business', 'sports', 'technology', 'entertainment']\n",
    "\n",
    "get_news_articles(topics)"
   ]
  },
  {
   "cell_type": "code",
   "execution_count": null,
   "id": "6ca626ba",
   "metadata": {},
   "outputs": [],
   "source": []
  }
 ],
 "metadata": {
  "kernelspec": {
   "display_name": "Python 3 (ipykernel)",
   "language": "python",
   "name": "python3"
  },
  "language_info": {
   "codemirror_mode": {
    "name": "ipython",
    "version": 3
   },
   "file_extension": ".py",
   "mimetype": "text/x-python",
   "name": "python",
   "nbconvert_exporter": "python",
   "pygments_lexer": "ipython3",
   "version": "3.9.13"
  }
 },
 "nbformat": 4,
 "nbformat_minor": 5
}
